{
 "metadata": {
  "language_info": {
   "codemirror_mode": {
    "name": "ipython",
    "version": 3
   },
   "file_extension": ".py",
   "mimetype": "text/x-python",
   "name": "python",
   "nbconvert_exporter": "python",
   "pygments_lexer": "ipython3",
   "version": "3.7.9"
  },
  "orig_nbformat": 2,
  "kernelspec": {
   "name": "python379jvsc74a57bd0a507cdf376b69cecd2c89e7a1051eae61b266665cfe46f78fefb4235d6785f29",
   "display_name": "Python 3.7.9 64-bit ('myenv': conda)"
  }
 },
 "nbformat": 4,
 "nbformat_minor": 2,
 "cells": [
  {
   "cell_type": "code",
   "execution_count": 1,
   "metadata": {},
   "outputs": [],
   "source": [
    "import pandas as pd\n",
    "import numpy as np\n",
    "import re"
   ]
  },
  {
   "cell_type": "code",
   "execution_count": 2,
   "metadata": {},
   "outputs": [
    {
     "output_type": "execute_result",
     "data": {
      "text/plain": [
       "      Id                                             Título  \\\n",
       "0   2402         Como fazer hash de senhas de forma segura?   \n",
       "1   6441  Qual é a diferença entre INNER JOIN e OUTER JOIN?   \n",
       "2    579  Por que não devemos usar funções do tipo mysql_*?   \n",
       "3   2539           As mensagens de erro devem se desculpar?   \n",
       "4  17501  Qual é a diferença de API, biblioteca e Framew...   \n",
       "\n",
       "                                             Questão  \\\n",
       "0  <p>Se eu fizer o <em><a href=\"http://pt.wikipe...   \n",
       "1  <p>Qual é a diferença entre <code>INNER JOIN</...   \n",
       "2  <p>Uma dúvida muito comum é por que devemos pa...   \n",
       "3  <p>É comum encontrar uma mensagem de erro que ...   \n",
       "4  <p>Me parecem termos muito próximos e eventual...   \n",
       "\n",
       "                                         Tags  Pontuação  Visualizações  \n",
       "0     <hash><segurança><senhas><criptografia>        350          22367  \n",
       "1                                 <sql><join>        276         176953  \n",
       "2                                <php><mysql>        226           9761  \n",
       "3           <aplicação-web><gui><console><ux>        214           5075  \n",
       "4  <api><framework><terminologia><biblioteca>        193          54191  "
      ],
      "text/html": "<div>\n<style scoped>\n    .dataframe tbody tr th:only-of-type {\n        vertical-align: middle;\n    }\n\n    .dataframe tbody tr th {\n        vertical-align: top;\n    }\n\n    .dataframe thead th {\n        text-align: right;\n    }\n</style>\n<table border=\"1\" class=\"dataframe\">\n  <thead>\n    <tr style=\"text-align: right;\">\n      <th></th>\n      <th>Id</th>\n      <th>Título</th>\n      <th>Questão</th>\n      <th>Tags</th>\n      <th>Pontuação</th>\n      <th>Visualizações</th>\n    </tr>\n  </thead>\n  <tbody>\n    <tr>\n      <th>0</th>\n      <td>2402</td>\n      <td>Como fazer hash de senhas de forma segura?</td>\n      <td>&lt;p&gt;Se eu fizer o &lt;em&gt;&lt;a href=\"http://pt.wikipe...</td>\n      <td>&lt;hash&gt;&lt;segurança&gt;&lt;senhas&gt;&lt;criptografia&gt;</td>\n      <td>350</td>\n      <td>22367</td>\n    </tr>\n    <tr>\n      <th>1</th>\n      <td>6441</td>\n      <td>Qual é a diferença entre INNER JOIN e OUTER JOIN?</td>\n      <td>&lt;p&gt;Qual é a diferença entre &lt;code&gt;INNER JOIN&lt;/...</td>\n      <td>&lt;sql&gt;&lt;join&gt;</td>\n      <td>276</td>\n      <td>176953</td>\n    </tr>\n    <tr>\n      <th>2</th>\n      <td>579</td>\n      <td>Por que não devemos usar funções do tipo mysql_*?</td>\n      <td>&lt;p&gt;Uma dúvida muito comum é por que devemos pa...</td>\n      <td>&lt;php&gt;&lt;mysql&gt;</td>\n      <td>226</td>\n      <td>9761</td>\n    </tr>\n    <tr>\n      <th>3</th>\n      <td>2539</td>\n      <td>As mensagens de erro devem se desculpar?</td>\n      <td>&lt;p&gt;É comum encontrar uma mensagem de erro que ...</td>\n      <td>&lt;aplicação-web&gt;&lt;gui&gt;&lt;console&gt;&lt;ux&gt;</td>\n      <td>214</td>\n      <td>5075</td>\n    </tr>\n    <tr>\n      <th>4</th>\n      <td>17501</td>\n      <td>Qual é a diferença de API, biblioteca e Framew...</td>\n      <td>&lt;p&gt;Me parecem termos muito próximos e eventual...</td>\n      <td>&lt;api&gt;&lt;framework&gt;&lt;terminologia&gt;&lt;biblioteca&gt;</td>\n      <td>193</td>\n      <td>54191</td>\n    </tr>\n  </tbody>\n</table>\n</div>"
     },
     "metadata": {},
     "execution_count": 2
    }
   ],
   "source": [
    "df_pt=pd.read_csv('stackoverflow_portugues.csv')\n",
    "df_pt.head()"
   ]
  },
  {
   "cell_type": "code",
   "execution_count": 3,
   "metadata": {},
   "outputs": [
    {
     "output_type": "execute_result",
     "data": {
      "text/plain": [
       "         Id                                             Título  \\\n",
       "0  11227809  Why is it faster to process a sorted array tha...   \n",
       "1    927358  How do I undo the most recent local commits in...   \n",
       "2   2003505  How do I delete a Git branch locally and remot...   \n",
       "3    292357  What is the difference between 'git pull' and ...   \n",
       "4    477816             What is the correct JSON content type?   \n",
       "\n",
       "                                             Questão  \\\n",
       "0  <p>Here is a piece of C++ code that seems very...   \n",
       "1  <p>I accidentally committed the wrong files to...   \n",
       "2  <p>I want to delete a branch both locally and ...   \n",
       "3  <blockquote>\\n  <p><strong>Moderator Note:</st...   \n",
       "4  <p>I've been messing around with <a href=\"http...   \n",
       "\n",
       "                                                Tags  Pontuação  Visualizações  \n",
       "0  <java><c++><performance><optimization><branch-...      23057        1358574  \n",
       "1           <git><version-control><git-commit><undo>      19640        7906137  \n",
       "2                      <git><git-branch><git-remote>      15249        6940906  \n",
       "3                         <git><git-pull><git-fetch>      11008        2543052  \n",
       "4                 <json><http-headers><content-type>       9701        2478940  "
      ],
      "text/html": "<div>\n<style scoped>\n    .dataframe tbody tr th:only-of-type {\n        vertical-align: middle;\n    }\n\n    .dataframe tbody tr th {\n        vertical-align: top;\n    }\n\n    .dataframe thead th {\n        text-align: right;\n    }\n</style>\n<table border=\"1\" class=\"dataframe\">\n  <thead>\n    <tr style=\"text-align: right;\">\n      <th></th>\n      <th>Id</th>\n      <th>Título</th>\n      <th>Questão</th>\n      <th>Tags</th>\n      <th>Pontuação</th>\n      <th>Visualizações</th>\n    </tr>\n  </thead>\n  <tbody>\n    <tr>\n      <th>0</th>\n      <td>11227809</td>\n      <td>Why is it faster to process a sorted array tha...</td>\n      <td>&lt;p&gt;Here is a piece of C++ code that seems very...</td>\n      <td>&lt;java&gt;&lt;c++&gt;&lt;performance&gt;&lt;optimization&gt;&lt;branch-...</td>\n      <td>23057</td>\n      <td>1358574</td>\n    </tr>\n    <tr>\n      <th>1</th>\n      <td>927358</td>\n      <td>How do I undo the most recent local commits in...</td>\n      <td>&lt;p&gt;I accidentally committed the wrong files to...</td>\n      <td>&lt;git&gt;&lt;version-control&gt;&lt;git-commit&gt;&lt;undo&gt;</td>\n      <td>19640</td>\n      <td>7906137</td>\n    </tr>\n    <tr>\n      <th>2</th>\n      <td>2003505</td>\n      <td>How do I delete a Git branch locally and remot...</td>\n      <td>&lt;p&gt;I want to delete a branch both locally and ...</td>\n      <td>&lt;git&gt;&lt;git-branch&gt;&lt;git-remote&gt;</td>\n      <td>15249</td>\n      <td>6940906</td>\n    </tr>\n    <tr>\n      <th>3</th>\n      <td>292357</td>\n      <td>What is the difference between 'git pull' and ...</td>\n      <td>&lt;blockquote&gt;\\n  &lt;p&gt;&lt;strong&gt;Moderator Note:&lt;/st...</td>\n      <td>&lt;git&gt;&lt;git-pull&gt;&lt;git-fetch&gt;</td>\n      <td>11008</td>\n      <td>2543052</td>\n    </tr>\n    <tr>\n      <th>4</th>\n      <td>477816</td>\n      <td>What is the correct JSON content type?</td>\n      <td>&lt;p&gt;I've been messing around with &lt;a href=\"http...</td>\n      <td>&lt;json&gt;&lt;http-headers&gt;&lt;content-type&gt;</td>\n      <td>9701</td>\n      <td>2478940</td>\n    </tr>\n  </tbody>\n</table>\n</div>"
     },
     "metadata": {},
     "execution_count": 3
    }
   ],
   "source": [
    "df_en=pd.read_csv('stackoverflow_ingles.csv')\n",
    "df_en.head()"
   ]
  },
  {
   "cell_type": "code",
   "execution_count": 4,
   "metadata": {},
   "outputs": [
    {
     "output_type": "execute_result",
     "data": {
      "text/plain": [
       "      Id                                             Título  \\\n",
       "0  18232              ¿Cómo evitar la inyección SQL en PHP?   \n",
       "1    197  ¿Por qué mis programas no pueden hacer cálculo...   \n",
       "2     36  ¿Cuál es la diferencia entre un inner y un out...   \n",
       "3  29177  ¿Por qué es considerado una mala práctica util...   \n",
       "4    142  Validar un email en JavaScript que acepte todo...   \n",
       "\n",
       "                                             Questão  \\\n",
       "0  <p>Las sentencias dinámicas son sentencias SQL...   \n",
       "1  <p>Unas veces los cálculos funcionan correctam...   \n",
       "2  <p>¿Cuál es la diferencia entre un <code>inner...   \n",
       "3  <p>La mayoría de nosotros decimos, (muchas vec...   \n",
       "4  <h3>Pregunta</h3>\\n\\n<p>¿Cómo validar un e-mai...   \n",
       "\n",
       "                                                Tags  Pontuação  Visualizações  \n",
       "0        <php><mysql><sql><seguridad><inyección-sql>        169          38614  \n",
       "1   <matemáticas><coma-flotante><lenguaje-agnóstico>        141           3860  \n",
       "2                                 <mysql><sql><join>         97          53627  \n",
       "3  <variables><variables-globales><patrones-de-di...         89           9987  \n",
       "4             <javascript><validación><email><regex>         87          73129  "
      ],
      "text/html": "<div>\n<style scoped>\n    .dataframe tbody tr th:only-of-type {\n        vertical-align: middle;\n    }\n\n    .dataframe tbody tr th {\n        vertical-align: top;\n    }\n\n    .dataframe thead th {\n        text-align: right;\n    }\n</style>\n<table border=\"1\" class=\"dataframe\">\n  <thead>\n    <tr style=\"text-align: right;\">\n      <th></th>\n      <th>Id</th>\n      <th>Título</th>\n      <th>Questão</th>\n      <th>Tags</th>\n      <th>Pontuação</th>\n      <th>Visualizações</th>\n    </tr>\n  </thead>\n  <tbody>\n    <tr>\n      <th>0</th>\n      <td>18232</td>\n      <td>¿Cómo evitar la inyección SQL en PHP?</td>\n      <td>&lt;p&gt;Las sentencias dinámicas son sentencias SQL...</td>\n      <td>&lt;php&gt;&lt;mysql&gt;&lt;sql&gt;&lt;seguridad&gt;&lt;inyección-sql&gt;</td>\n      <td>169</td>\n      <td>38614</td>\n    </tr>\n    <tr>\n      <th>1</th>\n      <td>197</td>\n      <td>¿Por qué mis programas no pueden hacer cálculo...</td>\n      <td>&lt;p&gt;Unas veces los cálculos funcionan correctam...</td>\n      <td>&lt;matemáticas&gt;&lt;coma-flotante&gt;&lt;lenguaje-agnóstico&gt;</td>\n      <td>141</td>\n      <td>3860</td>\n    </tr>\n    <tr>\n      <th>2</th>\n      <td>36</td>\n      <td>¿Cuál es la diferencia entre un inner y un out...</td>\n      <td>&lt;p&gt;¿Cuál es la diferencia entre un &lt;code&gt;inner...</td>\n      <td>&lt;mysql&gt;&lt;sql&gt;&lt;join&gt;</td>\n      <td>97</td>\n      <td>53627</td>\n    </tr>\n    <tr>\n      <th>3</th>\n      <td>29177</td>\n      <td>¿Por qué es considerado una mala práctica util...</td>\n      <td>&lt;p&gt;La mayoría de nosotros decimos, (muchas vec...</td>\n      <td>&lt;variables&gt;&lt;variables-globales&gt;&lt;patrones-de-di...</td>\n      <td>89</td>\n      <td>9987</td>\n    </tr>\n    <tr>\n      <th>4</th>\n      <td>142</td>\n      <td>Validar un email en JavaScript que acepte todo...</td>\n      <td>&lt;h3&gt;Pregunta&lt;/h3&gt;\\n\\n&lt;p&gt;¿Cómo validar un e-mai...</td>\n      <td>&lt;javascript&gt;&lt;validación&gt;&lt;email&gt;&lt;regex&gt;</td>\n      <td>87</td>\n      <td>73129</td>\n    </tr>\n  </tbody>\n</table>\n</div>"
     },
     "metadata": {},
     "execution_count": 4
    }
   ],
   "source": [
    "df_sp=pd.read_csv('stackoverflow_espanhol.csv')\n",
    "df_sp.head()"
   ]
  },
  {
   "cell_type": "code",
   "execution_count": 5,
   "metadata": {},
   "outputs": [
    {
     "output_type": "execute_result",
     "data": {
      "text/plain": [
       "\"<p>Desenvolvi uma página em PHP para uso interno da empresa que trabalho e apenas pouquíssimas pessoas a utilizam. Através dessa página é possível fazer algumas consultas, inserções, alterações e remoções de dados de uma tabela em um banco de dados MySQL, porém eu acredito que meu código em PHP não está protegido contra injeção de código SQL, por exemplo:</p>\\n\\n<pre><code>//----CONSULTA SQL----//\\n$busca = mysql_query ('insert into Produtos (coluna) values(' . $valor . ')');\\n</code></pre>\\n\\n<p>Logo, digamos que o usuário usar a sentença: <code>1); DROP TABLE Produtos;</code> para ao campo <code>valor</code> o comando ficaria: </p>\\n\\n<pre><code>insert into Produtos (coluna) values(1); DROP TABLE Produtos;\\n</code></pre>\\n\\n<p>Ele vai inserir um novo registro cujo o campo <code>coluna</code> será <code>1</code> e logo em seguida ele vai deletar a tabela Produtos.</p>\\n\\n<p>Como posso melhorar meu código para prevenir essa situação?</p>\\n\""
      ]
     },
     "metadata": {},
     "execution_count": 5
    }
   ],
   "source": [
    "df_pt.Questão[5]"
   ]
  },
  {
   "cell_type": "code",
   "execution_count": 6,
   "metadata": {},
   "outputs": [
    {
     "output_type": "execute_result",
     "data": {
      "text/plain": [
       "'<p>What is the use of the <code>yield</code> keyword in Python? What does it do?</p>\\n\\n<p>For example, I\\'m trying to understand this code<sup><strong>1</strong></sup>:</p>\\n\\n<pre><code>def _get_child_candidates(self, distance, min_dist, max_dist):\\n    if self._leftchild and distance - max_dist &lt; self._median:\\n        yield self._leftchild\\n    if self._rightchild and distance + max_dist &gt;= self._median:\\n        yield self._rightchild  \\n</code></pre>\\n\\n<p>And this is the caller:</p>\\n\\n<pre><code>result, candidates = [], [self]\\nwhile candidates:\\n    node = candidates.pop()\\n    distance = node._get_dist(obj)\\n    if distance &lt;= max_dist and distance &gt;= min_dist:\\n        result.extend(node._values)\\n    candidates.extend(node._get_child_candidates(distance, min_dist, max_dist))\\nreturn result\\n</code></pre>\\n\\n<p>What happens when the method <code>_get_child_candidates</code> is called?\\nIs a list returned? A single element? Is it called again? When will subsequent calls stop?</p>\\n\\n<hr>\\n\\n<p><sub>\\n1. This piece of code was written by Jochen Schulz (jrschulz), who made a great Python library for metric spaces. This is the link to the complete source: <a href=\"http://well-adjusted.de/~jrschulz/mspace/\" rel=\"noreferrer\">Module mspace</a>.</sub></p>\\n'"
      ]
     },
     "metadata": {},
     "execution_count": 6
    }
   ],
   "source": [
    "df_en.Questão[5]"
   ]
  },
  {
   "cell_type": "code",
   "execution_count": 7,
   "metadata": {},
   "outputs": [
    {
     "output_type": "execute_result",
     "data": {
      "text/plain": [
       "'<p>Siempre he visto que en <code>JavaScript</code> hay:</p>\\n\\n<ul>\\n<li>asignaciones <code>=</code></li>\\n<li>comparaciones <code>==</code> y <code>===</code></li>\\n</ul>\\n\\n<p>Creo entender que <code>==</code> hace algo parecido a comparar el valor de la variable y el <code>===</code> también compara el tipo (como un equals de java). </p>\\n\\n<p><strong>¿Alguien podría confirmarme este punto y extenderlo?</strong>. Soy javero y el no tipado de javascript a veces me encanta y otras lo odio.</p>\\n\\n<hr>\\n\\n<p>¿Cuál es la manera correcta en javascript de comparar <code>undefined</code>, <code>null</code> y otros valores por defecto? </p>\\n\\n<pre><code>variable == null\\nvariable === null\\n</code></pre>\\n\\n<p>¿<strong><code>undefined</code></strong> se usa como cadena de texto o como palabra clave? ¿Cual de las siguientes comparaciones es la correcta para un elemento <code>html</code> sin <code>value</code>? (por ejemplo un label sin contenido)</p>\\n\\n<pre><code>variable == \"undefined\"\\nvariable === \"undefined\"\\nvariable == undefined\\nvariable === undefined\\n</code></pre>\\n'"
      ]
     },
     "metadata": {},
     "execution_count": 7
    }
   ],
   "source": [
    "df_sp.Questão[5]"
   ]
  },
  {
   "cell_type": "code",
   "execution_count": 8,
   "metadata": {},
   "outputs": [
    {
     "output_type": "execute_result",
     "data": {
      "text/plain": [
       "['<p>',\n",
       " '</p>',\n",
       " '<pre>',\n",
       " '<code>',\n",
       " '</code>',\n",
       " '</pre>',\n",
       " '<p>',\n",
       " '<code>',\n",
       " '</code>',\n",
       " '<code>',\n",
       " '</code>',\n",
       " '</p>',\n",
       " '<pre>',\n",
       " '<code>',\n",
       " '</code>',\n",
       " '</pre>',\n",
       " '<p>',\n",
       " '<code>',\n",
       " '</code>',\n",
       " '<code>',\n",
       " '</code>',\n",
       " '</p>',\n",
       " '<p>',\n",
       " '</p>']"
      ]
     },
     "metadata": {},
     "execution_count": 8
    }
   ],
   "source": [
    "re.findall(r'<.*?>',df_pt.Questão[5])"
   ]
  },
  {
   "cell_type": "code",
   "execution_count": 9,
   "metadata": {},
   "outputs": [
    {
     "output_type": "execute_result",
     "data": {
      "text/plain": [
       "\"T_E_S_T_EDesenvolvi uma página em PHP para uso interno da empresa que trabalho e apenas pouquíssimas pessoas a utilizam. Através dessa página é possível fazer algumas consultas, inserções, alterações e remoções de dados de uma tabela em um banco de dados MySQL, porém eu acredito que meu código em PHP não está protegido contra injeção de código SQL, por exemplo:T_E_S_T_E\\n\\nT_E_S_T_ET_E_S_T_E//----CONSULTA SQL----//\\n$busca = mysql_query ('insert into Produtos (coluna) values(' . $valor . ')');\\nT_E_S_T_ET_E_S_T_E\\n\\nT_E_S_T_ELogo, digamos que o usuário usar a sentença: T_E_S_T_E1); DROP TABLE Produtos;T_E_S_T_E para ao campo T_E_S_T_EvalorT_E_S_T_E o comando ficaria: T_E_S_T_E\\n\\nT_E_S_T_ET_E_S_T_Einsert into Produtos (coluna) values(1); DROP TABLE Produtos;\\nT_E_S_T_ET_E_S_T_E\\n\\nT_E_S_T_EEle vai inserir um novo registro cujo o campo T_E_S_T_EcolunaT_E_S_T_E será T_E_S_T_E1T_E_S_T_E e logo em seguida ele vai deletar a tabela Produtos.T_E_S_T_E\\n\\nT_E_S_T_EComo posso melhorar meu código para prevenir essa situação?T_E_S_T_E\\n\""
      ]
     },
     "metadata": {},
     "execution_count": 9
    }
   ],
   "source": [
    "re.sub(r'<.*?>','T_E_S_T_E',df_pt.Questão[5])"
   ]
  },
  {
   "cell_type": "code",
   "execution_count": 10,
   "metadata": {},
   "outputs": [],
   "source": [
    "regex=re.compile(r'<.*?>')"
   ]
  },
  {
   "cell_type": "code",
   "execution_count": 11,
   "metadata": {},
   "outputs": [
    {
     "output_type": "execute_result",
     "data": {
      "text/plain": [
       "\"T_E_S_T_EDesenvolvi uma página em PHP para uso interno da empresa que trabalho e apenas pouquíssimas pessoas a utilizam. Através dessa página é possível fazer algumas consultas, inserções, alterações e remoções de dados de uma tabela em um banco de dados MySQL, porém eu acredito que meu código em PHP não está protegido contra injeção de código SQL, por exemplo:T_E_S_T_E\\n\\nT_E_S_T_ET_E_S_T_E//----CONSULTA SQL----//\\n$busca = mysql_query ('insert into Produtos (coluna) values(' . $valor . ')');\\nT_E_S_T_ET_E_S_T_E\\n\\nT_E_S_T_ELogo, digamos que o usuário usar a sentença: T_E_S_T_E1); DROP TABLE Produtos;T_E_S_T_E para ao campo T_E_S_T_EvalorT_E_S_T_E o comando ficaria: T_E_S_T_E\\n\\nT_E_S_T_ET_E_S_T_Einsert into Produtos (coluna) values(1); DROP TABLE Produtos;\\nT_E_S_T_ET_E_S_T_E\\n\\nT_E_S_T_EEle vai inserir um novo registro cujo o campo T_E_S_T_EcolunaT_E_S_T_E será T_E_S_T_E1T_E_S_T_E e logo em seguida ele vai deletar a tabela Produtos.T_E_S_T_E\\n\\nT_E_S_T_EComo posso melhorar meu código para prevenir essa situação?T_E_S_T_E\\n\""
      ]
     },
     "metadata": {},
     "execution_count": 11
    }
   ],
   "source": [
    "regex.sub('T_E_S_T_E',df_pt.Questão[5])"
   ]
  },
  {
   "cell_type": "code",
   "execution_count": 12,
   "metadata": {},
   "outputs": [],
   "source": [
    "def remover(textos,regex):\n",
    "    if type(textos)==str:\n",
    "        return regex.sub('',textos)\n",
    "    else:\n",
    "        return  [regex.sub('', texto) for texto in textos]"
   ]
  },
  {
   "cell_type": "code",
   "execution_count": 13,
   "metadata": {},
   "outputs": [
    {
     "output_type": "stream",
     "name": "stdout",
     "text": [
      "What is the use of the yield keyword in Python? What does it do?\n\nFor example, I'm trying to understand this code1:\n\ndef _get_child_candidates(self, distance, min_dist, max_dist):\n    if self._leftchild and distance - max_dist &lt; self._median:\n        yield self._leftchild\n    if self._rightchild and distance + max_dist &gt;= self._median:\n        yield self._rightchild  \n\n\nAnd this is the caller:\n\nresult, candidates = [], [self]\nwhile candidates:\n    node = candidates.pop()\n    distance = node._get_dist(obj)\n    if distance &lt;= max_dist and distance &gt;= min_dist:\n        result.extend(node._values)\n    candidates.extend(node._get_child_candidates(distance, min_dist, max_dist))\nreturn result\n\n\nWhat happens when the method _get_child_candidates is called?\nIs a list returned? A single element? Is it called again? When will subsequent calls stop?\n\n\n\n\n1. This piece of code was written by Jochen Schulz (jrschulz), who made a great Python library for metric spaces. This is the link to the complete source: Module mspace.\n\n"
     ]
    }
   ],
   "source": [
    "regex_html=re.compile(r'<.*?>')\n",
    "print(remover(df_en.Questão[5],regex)) ### sem tag html"
   ]
  },
  {
   "cell_type": "code",
   "execution_count": 14,
   "metadata": {},
   "outputs": [],
   "source": [
    "def substituir_codigo(textos,regex):\n",
    "    if type(textos)==str:\n",
    "        return regex.sub('CODE',textos)\n",
    "    else:\n",
    "        return  [regex.sub('CODE', texto) for texto in textos]"
   ]
  },
  {
   "cell_type": "code",
   "execution_count": 15,
   "metadata": {},
   "outputs": [],
   "source": [
    "regex_codigo=re.compile(r'<code>(.|(\\n))*?</code>')"
   ]
  },
  {
   "cell_type": "code",
   "execution_count": 16,
   "metadata": {},
   "outputs": [
    {
     "output_type": "stream",
     "name": "stdout",
     "text": [
      "<p>Desenvolvi uma página em PHP para uso interno da empresa que trabalho e apenas pouquíssimas pessoas a utilizam. Através dessa página é possível fazer algumas consultas, inserções, alterações e remoções de dados de uma tabela em um banco de dados MySQL, porém eu acredito que meu código em PHP não está protegido contra injeção de código SQL, por exemplo:</p>\n\n<pre>CODE</pre>\n\n<p>Logo, digamos que o usuário usar a sentença: CODE para ao campo CODE o comando ficaria: </p>\n\n<pre>CODE</pre>\n\n<p>Ele vai inserir um novo registro cujo o campo CODE será CODE e logo em seguida ele vai deletar a tabela Produtos.</p>\n\n<p>Como posso melhorar meu código para prevenir essa situação?</p>\n\n"
     ]
    }
   ],
   "source": [
    "print(substituir_codigo(df_pt.Questão[5],regex_codigo)) ### sem codigo"
   ]
  },
  {
   "cell_type": "code",
   "execution_count": 17,
   "metadata": {},
   "outputs": [],
   "source": [
    "questoes_pt_sem_code=substituir_codigo(df_pt.Questão,regex_codigo)\n",
    "questoes_pt_sem_code_sem_tag=remover(questoes_pt_sem_code,regex_html)\n",
    "df_pt['sem_tag_sem_code']=questoes_pt_sem_code_sem_tag"
   ]
  },
  {
   "cell_type": "code",
   "execution_count": 18,
   "metadata": {},
   "outputs": [
    {
     "output_type": "execute_result",
     "data": {
      "text/plain": [
       "      Id                                             Título  \\\n",
       "0   2402         Como fazer hash de senhas de forma segura?   \n",
       "1   6441  Qual é a diferença entre INNER JOIN e OUTER JOIN?   \n",
       "2    579  Por que não devemos usar funções do tipo mysql_*?   \n",
       "3   2539           As mensagens de erro devem se desculpar?   \n",
       "4  17501  Qual é a diferença de API, biblioteca e Framew...   \n",
       "\n",
       "                                             Questão  \\\n",
       "0  <p>Se eu fizer o <em><a href=\"http://pt.wikipe...   \n",
       "1  <p>Qual é a diferença entre <code>INNER JOIN</...   \n",
       "2  <p>Uma dúvida muito comum é por que devemos pa...   \n",
       "3  <p>É comum encontrar uma mensagem de erro que ...   \n",
       "4  <p>Me parecem termos muito próximos e eventual...   \n",
       "\n",
       "                                         Tags  Pontuação  Visualizações  \\\n",
       "0     <hash><segurança><senhas><criptografia>        350          22367   \n",
       "1                                 <sql><join>        276         176953   \n",
       "2                                <php><mysql>        226           9761   \n",
       "3           <aplicação-web><gui><console><ux>        214           5075   \n",
       "4  <api><framework><terminologia><biblioteca>        193          54191   \n",
       "\n",
       "                                    sem_tag_sem_code  \n",
       "0  Se eu fizer o hash de senhas antes de armazená...  \n",
       "1  Qual é a diferença entre CODE e CODE? Podem me...  \n",
       "2  Uma dúvida muito comum é por que devemos parar...  \n",
       "3  É comum encontrar uma mensagem de erro que diz...  \n",
       "4  Me parecem termos muito próximos e eventualmen...  "
      ],
      "text/html": "<div>\n<style scoped>\n    .dataframe tbody tr th:only-of-type {\n        vertical-align: middle;\n    }\n\n    .dataframe tbody tr th {\n        vertical-align: top;\n    }\n\n    .dataframe thead th {\n        text-align: right;\n    }\n</style>\n<table border=\"1\" class=\"dataframe\">\n  <thead>\n    <tr style=\"text-align: right;\">\n      <th></th>\n      <th>Id</th>\n      <th>Título</th>\n      <th>Questão</th>\n      <th>Tags</th>\n      <th>Pontuação</th>\n      <th>Visualizações</th>\n      <th>sem_tag_sem_code</th>\n    </tr>\n  </thead>\n  <tbody>\n    <tr>\n      <th>0</th>\n      <td>2402</td>\n      <td>Como fazer hash de senhas de forma segura?</td>\n      <td>&lt;p&gt;Se eu fizer o &lt;em&gt;&lt;a href=\"http://pt.wikipe...</td>\n      <td>&lt;hash&gt;&lt;segurança&gt;&lt;senhas&gt;&lt;criptografia&gt;</td>\n      <td>350</td>\n      <td>22367</td>\n      <td>Se eu fizer o hash de senhas antes de armazená...</td>\n    </tr>\n    <tr>\n      <th>1</th>\n      <td>6441</td>\n      <td>Qual é a diferença entre INNER JOIN e OUTER JOIN?</td>\n      <td>&lt;p&gt;Qual é a diferença entre &lt;code&gt;INNER JOIN&lt;/...</td>\n      <td>&lt;sql&gt;&lt;join&gt;</td>\n      <td>276</td>\n      <td>176953</td>\n      <td>Qual é a diferença entre CODE e CODE? Podem me...</td>\n    </tr>\n    <tr>\n      <th>2</th>\n      <td>579</td>\n      <td>Por que não devemos usar funções do tipo mysql_*?</td>\n      <td>&lt;p&gt;Uma dúvida muito comum é por que devemos pa...</td>\n      <td>&lt;php&gt;&lt;mysql&gt;</td>\n      <td>226</td>\n      <td>9761</td>\n      <td>Uma dúvida muito comum é por que devemos parar...</td>\n    </tr>\n    <tr>\n      <th>3</th>\n      <td>2539</td>\n      <td>As mensagens de erro devem se desculpar?</td>\n      <td>&lt;p&gt;É comum encontrar uma mensagem de erro que ...</td>\n      <td>&lt;aplicação-web&gt;&lt;gui&gt;&lt;console&gt;&lt;ux&gt;</td>\n      <td>214</td>\n      <td>5075</td>\n      <td>É comum encontrar uma mensagem de erro que diz...</td>\n    </tr>\n    <tr>\n      <th>4</th>\n      <td>17501</td>\n      <td>Qual é a diferença de API, biblioteca e Framew...</td>\n      <td>&lt;p&gt;Me parecem termos muito próximos e eventual...</td>\n      <td>&lt;api&gt;&lt;framework&gt;&lt;terminologia&gt;&lt;biblioteca&gt;</td>\n      <td>193</td>\n      <td>54191</td>\n      <td>Me parecem termos muito próximos e eventualmen...</td>\n    </tr>\n  </tbody>\n</table>\n</div>"
     },
     "metadata": {},
     "execution_count": 18
    }
   ],
   "source": [
    "df_pt.head()"
   ]
  },
  {
   "cell_type": "code",
   "execution_count": 19,
   "metadata": {},
   "outputs": [
    {
     "output_type": "execute_result",
     "data": {
      "text/plain": [
       "         Id                                             Título  \\\n",
       "0  11227809  Why is it faster to process a sorted array tha...   \n",
       "1    927358  How do I undo the most recent local commits in...   \n",
       "2   2003505  How do I delete a Git branch locally and remot...   \n",
       "3    292357  What is the difference between 'git pull' and ...   \n",
       "4    477816             What is the correct JSON content type?   \n",
       "\n",
       "                                             Questão  \\\n",
       "0  <p>Here is a piece of C++ code that seems very...   \n",
       "1  <p>I accidentally committed the wrong files to...   \n",
       "2  <p>I want to delete a branch both locally and ...   \n",
       "3  <blockquote>\\n  <p><strong>Moderator Note:</st...   \n",
       "4  <p>I've been messing around with <a href=\"http...   \n",
       "\n",
       "                                                Tags  Pontuação  \\\n",
       "0  <java><c++><performance><optimization><branch-...      23057   \n",
       "1           <git><version-control><git-commit><undo>      19640   \n",
       "2                      <git><git-branch><git-remote>      15249   \n",
       "3                         <git><git-pull><git-fetch>      11008   \n",
       "4                 <json><http-headers><content-type>       9701   \n",
       "\n",
       "   Visualizações                                   sem_tag_sem_code  \n",
       "0        1358574  Here is a piece of C++ code that seems very pe...  \n",
       "1        7906137  I accidentally committed the wrong files to Gi...  \n",
       "2        6940906  I want to delete a branch both locally and rem...  \n",
       "3        2543052  \\n  Moderator Note: Given that this question h...  \n",
       "4        2478940  I've been messing around with JSON for some ti...  "
      ],
      "text/html": "<div>\n<style scoped>\n    .dataframe tbody tr th:only-of-type {\n        vertical-align: middle;\n    }\n\n    .dataframe tbody tr th {\n        vertical-align: top;\n    }\n\n    .dataframe thead th {\n        text-align: right;\n    }\n</style>\n<table border=\"1\" class=\"dataframe\">\n  <thead>\n    <tr style=\"text-align: right;\">\n      <th></th>\n      <th>Id</th>\n      <th>Título</th>\n      <th>Questão</th>\n      <th>Tags</th>\n      <th>Pontuação</th>\n      <th>Visualizações</th>\n      <th>sem_tag_sem_code</th>\n    </tr>\n  </thead>\n  <tbody>\n    <tr>\n      <th>0</th>\n      <td>11227809</td>\n      <td>Why is it faster to process a sorted array tha...</td>\n      <td>&lt;p&gt;Here is a piece of C++ code that seems very...</td>\n      <td>&lt;java&gt;&lt;c++&gt;&lt;performance&gt;&lt;optimization&gt;&lt;branch-...</td>\n      <td>23057</td>\n      <td>1358574</td>\n      <td>Here is a piece of C++ code that seems very pe...</td>\n    </tr>\n    <tr>\n      <th>1</th>\n      <td>927358</td>\n      <td>How do I undo the most recent local commits in...</td>\n      <td>&lt;p&gt;I accidentally committed the wrong files to...</td>\n      <td>&lt;git&gt;&lt;version-control&gt;&lt;git-commit&gt;&lt;undo&gt;</td>\n      <td>19640</td>\n      <td>7906137</td>\n      <td>I accidentally committed the wrong files to Gi...</td>\n    </tr>\n    <tr>\n      <th>2</th>\n      <td>2003505</td>\n      <td>How do I delete a Git branch locally and remot...</td>\n      <td>&lt;p&gt;I want to delete a branch both locally and ...</td>\n      <td>&lt;git&gt;&lt;git-branch&gt;&lt;git-remote&gt;</td>\n      <td>15249</td>\n      <td>6940906</td>\n      <td>I want to delete a branch both locally and rem...</td>\n    </tr>\n    <tr>\n      <th>3</th>\n      <td>292357</td>\n      <td>What is the difference between 'git pull' and ...</td>\n      <td>&lt;blockquote&gt;\\n  &lt;p&gt;&lt;strong&gt;Moderator Note:&lt;/st...</td>\n      <td>&lt;git&gt;&lt;git-pull&gt;&lt;git-fetch&gt;</td>\n      <td>11008</td>\n      <td>2543052</td>\n      <td>\\n  Moderator Note: Given that this question h...</td>\n    </tr>\n    <tr>\n      <th>4</th>\n      <td>477816</td>\n      <td>What is the correct JSON content type?</td>\n      <td>&lt;p&gt;I've been messing around with &lt;a href=\"http...</td>\n      <td>&lt;json&gt;&lt;http-headers&gt;&lt;content-type&gt;</td>\n      <td>9701</td>\n      <td>2478940</td>\n      <td>I've been messing around with JSON for some ti...</td>\n    </tr>\n  </tbody>\n</table>\n</div>"
     },
     "metadata": {},
     "execution_count": 19
    }
   ],
   "source": [
    "questoes_en_sem_code=substituir_codigo(df_en.Questão,regex_codigo)\n",
    "questoes_en_sem_code_sem_tag=remover(questoes_en_sem_code,regex_html)\n",
    "df_en['sem_tag_sem_code']=questoes_en_sem_code_sem_tag\n",
    "df_en.head()"
   ]
  },
  {
   "cell_type": "code",
   "execution_count": 20,
   "metadata": {},
   "outputs": [
    {
     "output_type": "execute_result",
     "data": {
      "text/plain": [
       "      Id                                             Título  \\\n",
       "0  18232              ¿Cómo evitar la inyección SQL en PHP?   \n",
       "1    197  ¿Por qué mis programas no pueden hacer cálculo...   \n",
       "2     36  ¿Cuál es la diferencia entre un inner y un out...   \n",
       "3  29177  ¿Por qué es considerado una mala práctica util...   \n",
       "4    142  Validar un email en JavaScript que acepte todo...   \n",
       "\n",
       "                                             Questão  \\\n",
       "0  <p>Las sentencias dinámicas son sentencias SQL...   \n",
       "1  <p>Unas veces los cálculos funcionan correctam...   \n",
       "2  <p>¿Cuál es la diferencia entre un <code>inner...   \n",
       "3  <p>La mayoría de nosotros decimos, (muchas vec...   \n",
       "4  <h3>Pregunta</h3>\\n\\n<p>¿Cómo validar un e-mai...   \n",
       "\n",
       "                                                Tags  Pontuação  \\\n",
       "0        <php><mysql><sql><seguridad><inyección-sql>        169   \n",
       "1   <matemáticas><coma-flotante><lenguaje-agnóstico>        141   \n",
       "2                                 <mysql><sql><join>         97   \n",
       "3  <variables><variables-globales><patrones-de-di...         89   \n",
       "4             <javascript><validación><email><regex>         87   \n",
       "\n",
       "   Visualizações                                   sem_tag_sem_code  \n",
       "0          38614  Las sentencias dinámicas son sentencias SQL qu...  \n",
       "1           3860  Unas veces los cálculos funcionan correctament...  \n",
       "2          53627  ¿Cuál es la diferencia entre un CODE y un CODE...  \n",
       "3           9987  La mayoría de nosotros decimos, (muchas veces ...  \n",
       "4          73129  Pregunta\\n\\n¿Cómo validar un e-mail que acepte...  "
      ],
      "text/html": "<div>\n<style scoped>\n    .dataframe tbody tr th:only-of-type {\n        vertical-align: middle;\n    }\n\n    .dataframe tbody tr th {\n        vertical-align: top;\n    }\n\n    .dataframe thead th {\n        text-align: right;\n    }\n</style>\n<table border=\"1\" class=\"dataframe\">\n  <thead>\n    <tr style=\"text-align: right;\">\n      <th></th>\n      <th>Id</th>\n      <th>Título</th>\n      <th>Questão</th>\n      <th>Tags</th>\n      <th>Pontuação</th>\n      <th>Visualizações</th>\n      <th>sem_tag_sem_code</th>\n    </tr>\n  </thead>\n  <tbody>\n    <tr>\n      <th>0</th>\n      <td>18232</td>\n      <td>¿Cómo evitar la inyección SQL en PHP?</td>\n      <td>&lt;p&gt;Las sentencias dinámicas son sentencias SQL...</td>\n      <td>&lt;php&gt;&lt;mysql&gt;&lt;sql&gt;&lt;seguridad&gt;&lt;inyección-sql&gt;</td>\n      <td>169</td>\n      <td>38614</td>\n      <td>Las sentencias dinámicas son sentencias SQL qu...</td>\n    </tr>\n    <tr>\n      <th>1</th>\n      <td>197</td>\n      <td>¿Por qué mis programas no pueden hacer cálculo...</td>\n      <td>&lt;p&gt;Unas veces los cálculos funcionan correctam...</td>\n      <td>&lt;matemáticas&gt;&lt;coma-flotante&gt;&lt;lenguaje-agnóstico&gt;</td>\n      <td>141</td>\n      <td>3860</td>\n      <td>Unas veces los cálculos funcionan correctament...</td>\n    </tr>\n    <tr>\n      <th>2</th>\n      <td>36</td>\n      <td>¿Cuál es la diferencia entre un inner y un out...</td>\n      <td>&lt;p&gt;¿Cuál es la diferencia entre un &lt;code&gt;inner...</td>\n      <td>&lt;mysql&gt;&lt;sql&gt;&lt;join&gt;</td>\n      <td>97</td>\n      <td>53627</td>\n      <td>¿Cuál es la diferencia entre un CODE y un CODE...</td>\n    </tr>\n    <tr>\n      <th>3</th>\n      <td>29177</td>\n      <td>¿Por qué es considerado una mala práctica util...</td>\n      <td>&lt;p&gt;La mayoría de nosotros decimos, (muchas vec...</td>\n      <td>&lt;variables&gt;&lt;variables-globales&gt;&lt;patrones-de-di...</td>\n      <td>89</td>\n      <td>9987</td>\n      <td>La mayoría de nosotros decimos, (muchas veces ...</td>\n    </tr>\n    <tr>\n      <th>4</th>\n      <td>142</td>\n      <td>Validar un email en JavaScript que acepte todo...</td>\n      <td>&lt;h3&gt;Pregunta&lt;/h3&gt;\\n\\n&lt;p&gt;¿Cómo validar un e-mai...</td>\n      <td>&lt;javascript&gt;&lt;validación&gt;&lt;email&gt;&lt;regex&gt;</td>\n      <td>87</td>\n      <td>73129</td>\n      <td>Pregunta\\n\\n¿Cómo validar un e-mail que acepte...</td>\n    </tr>\n  </tbody>\n</table>\n</div>"
     },
     "metadata": {},
     "execution_count": 20
    }
   ],
   "source": [
    "questoes_sp_sem_code=substituir_codigo(df_sp.Questão,regex_codigo)\n",
    "questoes_sp_sem_code_sem_tag=remover(questoes_sp_sem_code,regex_html)\n",
    "df_sp['sem_tag_sem_code']=questoes_sp_sem_code_sem_tag\n",
    "df_sp.head()"
   ]
  },
  {
   "cell_type": "code",
   "execution_count": 21,
   "metadata": {},
   "outputs": [],
   "source": [
    "regex_pontuacao=re.compile(r'[^\\w\\s]')"
   ]
  },
  {
   "cell_type": "code",
   "execution_count": 22,
   "metadata": {},
   "outputs": [
    {
     "output_type": "stream",
     "name": "stdout",
     "text": [
      "pWhat is the use of the codeyieldcode keyword in Python What does it dop\n\npFor example Im trying to understand this codesupstrong1strongsupp\n\nprecodedef _get_child_candidatesself distance min_dist max_dist\n    if self_leftchild and distance  max_dist lt self_median\n        yield self_leftchild\n    if self_rightchild and distance  max_dist gt self_median\n        yield self_rightchild  \ncodepre\n\npAnd this is the callerp\n\nprecoderesult candidates   self\nwhile candidates\n    node  candidatespop\n    distance  node_get_distobj\n    if distance lt max_dist and distance gt min_dist\n        resultextendnode_values\n    candidatesextendnode_get_child_candidatesdistance min_dist max_dist\nreturn result\ncodepre\n\npWhat happens when the method code_get_child_candidatescode is called\nIs a list returned A single element Is it called again When will subsequent calls stopp\n\nhr\n\npsub\n1 This piece of code was written by Jochen Schulz jrschulz who made a great Python library for metric spaces This is the link to the complete source a hrefhttpwelladjusteddejrschulzmspace relnoreferrerModule mspaceasubp\n\n"
     ]
    }
   ],
   "source": [
    "print(remover(df_en.Questão[5],regex_pontuacao)) ##"
   ]
  },
  {
   "cell_type": "code",
   "execution_count": 23,
   "metadata": {},
   "outputs": [],
   "source": [
    "def minusculo(textos):\n",
    "    if type(textos)==str:\n",
    "        return textos.lower()\n",
    "    else:\n",
    "        return  [texto.lower() for texto in textos]"
   ]
  },
  {
   "cell_type": "code",
   "execution_count": 24,
   "metadata": {},
   "outputs": [
    {
     "output_type": "stream",
     "name": "stdout",
     "text": [
      "<p>siempre he visto que en <code>javascript</code> hay:</p>\n\n<ul>\n<li>asignaciones <code>=</code></li>\n<li>comparaciones <code>==</code> y <code>===</code></li>\n</ul>\n\n<p>creo entender que <code>==</code> hace algo parecido a comparar el valor de la variable y el <code>===</code> también compara el tipo (como un equals de java). </p>\n\n<p><strong>¿alguien podría confirmarme este punto y extenderlo?</strong>. soy javero y el no tipado de javascript a veces me encanta y otras lo odio.</p>\n\n<hr>\n\n<p>¿cuál es la manera correcta en javascript de comparar <code>undefined</code>, <code>null</code> y otros valores por defecto? </p>\n\n<pre><code>variable == null\nvariable === null\n</code></pre>\n\n<p>¿<strong><code>undefined</code></strong> se usa como cadena de texto o como palabra clave? ¿cual de las siguientes comparaciones es la correcta para un elemento <code>html</code> sin <code>value</code>? (por ejemplo un label sin contenido)</p>\n\n<pre><code>variable == \"undefined\"\nvariable === \"undefined\"\nvariable == undefined\nvariable === undefined\n</code></pre>\n\n"
     ]
    }
   ],
   "source": [
    "print(minusculo(df_sp.Questão[5])) ##"
   ]
  },
  {
   "cell_type": "code",
   "execution_count": 25,
   "metadata": {},
   "outputs": [
    {
     "output_type": "execute_result",
     "data": {
      "text/plain": [
       "' estevan'"
      ]
     },
     "metadata": {},
     "execution_count": 25
    }
   ],
   "source": [
    "regex_digitos=re.compile(r'\\d+')\n",
    "remover('12123123 estevan',regex_digitos)"
   ]
  },
  {
   "cell_type": "code",
   "execution_count": 26,
   "metadata": {},
   "outputs": [],
   "source": [
    "regex_espaco_duplo=re.compile(r' +')\n",
    "regex_quebra_linha=re.compile(r'(\\n)')"
   ]
  },
  {
   "cell_type": "code",
   "execution_count": 27,
   "metadata": {},
   "outputs": [],
   "source": [
    "def substituir_por_espaco(textos,regex):\n",
    "    if type(textos)==str:\n",
    "        return regex.sub(' ',textos)\n",
    "    else:\n",
    "        return  [regex.sub(' ', texto) for texto in textos]"
   ]
  },
  {
   "cell_type": "code",
   "execution_count": 28,
   "metadata": {},
   "outputs": [
    {
     "output_type": "execute_result",
     "data": {
      "text/plain": [
       "'12123123 estevan'"
      ]
     },
     "metadata": {},
     "execution_count": 28
    }
   ],
   "source": [
    "substituir_por_espaco('12123123       estevan',regex_espaco_duplo)"
   ]
  },
  {
   "cell_type": "code",
   "execution_count": 29,
   "metadata": {},
   "outputs": [
    {
     "output_type": "execute_result",
     "data": {
      "text/plain": [
       "         Id                                             Título  \\\n",
       "0  11227809  Why is it faster to process a sorted array tha...   \n",
       "1    927358  How do I undo the most recent local commits in...   \n",
       "2   2003505  How do I delete a Git branch locally and remot...   \n",
       "3    292357  What is the difference between 'git pull' and ...   \n",
       "4    477816             What is the correct JSON content type?   \n",
       "\n",
       "                                             Questão  \\\n",
       "0  <p>Here is a piece of C++ code that seems very...   \n",
       "1  <p>I accidentally committed the wrong files to...   \n",
       "2  <p>I want to delete a branch both locally and ...   \n",
       "3  <blockquote>\\n  <p><strong>Moderator Note:</st...   \n",
       "4  <p>I've been messing around with <a href=\"http...   \n",
       "\n",
       "                                                Tags  Pontuação  \\\n",
       "0  <java><c++><performance><optimization><branch-...      23057   \n",
       "1           <git><version-control><git-commit><undo>      19640   \n",
       "2                      <git><git-branch><git-remote>      15249   \n",
       "3                         <git><git-pull><git-fetch>      11008   \n",
       "4                 <json><http-headers><content-type>       9701   \n",
       "\n",
       "   Visualizações                                   sem_tag_sem_code  \\\n",
       "0        1358574  Here is a piece of C++ code that seems very pe...   \n",
       "1        7906137  I accidentally committed the wrong files to Gi...   \n",
       "2        6940906  I want to delete a branch both locally and rem...   \n",
       "3        2543052  \\n  Moderator Note: Given that this question h...   \n",
       "4        2478940  I've been messing around with JSON for some ti...   \n",
       "\n",
       "                                            tratados  \n",
       "0  here is a piece of c code that seems very pecu...  \n",
       "1  i accidentally committed the wrong files to gi...  \n",
       "2  i want to delete a branch both locally and rem...  \n",
       "3   moderator note given that this question has a...  \n",
       "4  ive been messing around with json for some tim...  "
      ],
      "text/html": "<div>\n<style scoped>\n    .dataframe tbody tr th:only-of-type {\n        vertical-align: middle;\n    }\n\n    .dataframe tbody tr th {\n        vertical-align: top;\n    }\n\n    .dataframe thead th {\n        text-align: right;\n    }\n</style>\n<table border=\"1\" class=\"dataframe\">\n  <thead>\n    <tr style=\"text-align: right;\">\n      <th></th>\n      <th>Id</th>\n      <th>Título</th>\n      <th>Questão</th>\n      <th>Tags</th>\n      <th>Pontuação</th>\n      <th>Visualizações</th>\n      <th>sem_tag_sem_code</th>\n      <th>tratados</th>\n    </tr>\n  </thead>\n  <tbody>\n    <tr>\n      <th>0</th>\n      <td>11227809</td>\n      <td>Why is it faster to process a sorted array tha...</td>\n      <td>&lt;p&gt;Here is a piece of C++ code that seems very...</td>\n      <td>&lt;java&gt;&lt;c++&gt;&lt;performance&gt;&lt;optimization&gt;&lt;branch-...</td>\n      <td>23057</td>\n      <td>1358574</td>\n      <td>Here is a piece of C++ code that seems very pe...</td>\n      <td>here is a piece of c code that seems very pecu...</td>\n    </tr>\n    <tr>\n      <th>1</th>\n      <td>927358</td>\n      <td>How do I undo the most recent local commits in...</td>\n      <td>&lt;p&gt;I accidentally committed the wrong files to...</td>\n      <td>&lt;git&gt;&lt;version-control&gt;&lt;git-commit&gt;&lt;undo&gt;</td>\n      <td>19640</td>\n      <td>7906137</td>\n      <td>I accidentally committed the wrong files to Gi...</td>\n      <td>i accidentally committed the wrong files to gi...</td>\n    </tr>\n    <tr>\n      <th>2</th>\n      <td>2003505</td>\n      <td>How do I delete a Git branch locally and remot...</td>\n      <td>&lt;p&gt;I want to delete a branch both locally and ...</td>\n      <td>&lt;git&gt;&lt;git-branch&gt;&lt;git-remote&gt;</td>\n      <td>15249</td>\n      <td>6940906</td>\n      <td>I want to delete a branch both locally and rem...</td>\n      <td>i want to delete a branch both locally and rem...</td>\n    </tr>\n    <tr>\n      <th>3</th>\n      <td>292357</td>\n      <td>What is the difference between 'git pull' and ...</td>\n      <td>&lt;blockquote&gt;\\n  &lt;p&gt;&lt;strong&gt;Moderator Note:&lt;/st...</td>\n      <td>&lt;git&gt;&lt;git-pull&gt;&lt;git-fetch&gt;</td>\n      <td>11008</td>\n      <td>2543052</td>\n      <td>\\n  Moderator Note: Given that this question h...</td>\n      <td>moderator note given that this question has a...</td>\n    </tr>\n    <tr>\n      <th>4</th>\n      <td>477816</td>\n      <td>What is the correct JSON content type?</td>\n      <td>&lt;p&gt;I've been messing around with &lt;a href=\"http...</td>\n      <td>&lt;json&gt;&lt;http-headers&gt;&lt;content-type&gt;</td>\n      <td>9701</td>\n      <td>2478940</td>\n      <td>I've been messing around with JSON for some ti...</td>\n      <td>ive been messing around with json for some tim...</td>\n    </tr>\n  </tbody>\n</table>\n</div>"
     },
     "metadata": {},
     "execution_count": 29
    }
   ],
   "source": [
    " questoes_en_sem_pont=remover(df_en.sem_tag_sem_code,regex_pontuacao)\n",
    " questoes_en_sem_pont_minus=minusculo(questoes_en_sem_pont)\n",
    " questoes_en_sem_pont_minus_dig=remover(questoes_en_sem_pont_minus,regex_digitos)\n",
    " questoes_en_sem_quebra_de_linha=substituir_por_espaco(questoes_en_sem_pont_minus_dig,regex_quebra_linha)\n",
    " questoes_en_sem_pont_minus_dig_espaco_dup=substituir_por_espaco(questoes_en_sem_quebra_de_linha,regex_espaco_duplo)\n",
    "\n",
    " df_en['tratados']=questoes_en_sem_pont_minus_dig_espaco_dup\n",
    " df_en.head()"
   ]
  },
  {
   "cell_type": "code",
   "execution_count": 30,
   "metadata": {},
   "outputs": [
    {
     "output_type": "execute_result",
     "data": {
      "text/plain": [
       "'i accidentally committed the wrong files to git but i havent pushed the commit to the server yet how can i undo those commits from the local repository '"
      ]
     },
     "metadata": {},
     "execution_count": 30
    }
   ],
   "source": [
    "df_en.tratados[1]"
   ]
  },
  {
   "cell_type": "code",
   "execution_count": 31,
   "metadata": {},
   "outputs": [
    {
     "output_type": "execute_result",
     "data": {
      "text/plain": [
       "      Id                                             Título  \\\n",
       "0   2402         Como fazer hash de senhas de forma segura?   \n",
       "1   6441  Qual é a diferença entre INNER JOIN e OUTER JOIN?   \n",
       "2    579  Por que não devemos usar funções do tipo mysql_*?   \n",
       "3   2539           As mensagens de erro devem se desculpar?   \n",
       "4  17501  Qual é a diferença de API, biblioteca e Framew...   \n",
       "\n",
       "                                             Questão  \\\n",
       "0  <p>Se eu fizer o <em><a href=\"http://pt.wikipe...   \n",
       "1  <p>Qual é a diferença entre <code>INNER JOIN</...   \n",
       "2  <p>Uma dúvida muito comum é por que devemos pa...   \n",
       "3  <p>É comum encontrar uma mensagem de erro que ...   \n",
       "4  <p>Me parecem termos muito próximos e eventual...   \n",
       "\n",
       "                                         Tags  Pontuação  Visualizações  \\\n",
       "0     <hash><segurança><senhas><criptografia>        350          22367   \n",
       "1                                 <sql><join>        276         176953   \n",
       "2                                <php><mysql>        226           9761   \n",
       "3           <aplicação-web><gui><console><ux>        214           5075   \n",
       "4  <api><framework><terminologia><biblioteca>        193          54191   \n",
       "\n",
       "                                    sem_tag_sem_code  \\\n",
       "0  Se eu fizer o hash de senhas antes de armazená...   \n",
       "1  Qual é a diferença entre CODE e CODE? Podem me...   \n",
       "2  Uma dúvida muito comum é por que devemos parar...   \n",
       "3  É comum encontrar uma mensagem de erro que diz...   \n",
       "4  Me parecem termos muito próximos e eventualmen...   \n",
       "\n",
       "                                            tratados  \n",
       "0  se eu fizer o hash de senhas antes de armazená...  \n",
       "1  qual é a diferença entre code e code podem me ...  \n",
       "2  uma dúvida muito comum é por que devemos parar...  \n",
       "3  é comum encontrar uma mensagem de erro que diz...  \n",
       "4  me parecem termos muito próximos e eventualmen...  "
      ],
      "text/html": "<div>\n<style scoped>\n    .dataframe tbody tr th:only-of-type {\n        vertical-align: middle;\n    }\n\n    .dataframe tbody tr th {\n        vertical-align: top;\n    }\n\n    .dataframe thead th {\n        text-align: right;\n    }\n</style>\n<table border=\"1\" class=\"dataframe\">\n  <thead>\n    <tr style=\"text-align: right;\">\n      <th></th>\n      <th>Id</th>\n      <th>Título</th>\n      <th>Questão</th>\n      <th>Tags</th>\n      <th>Pontuação</th>\n      <th>Visualizações</th>\n      <th>sem_tag_sem_code</th>\n      <th>tratados</th>\n    </tr>\n  </thead>\n  <tbody>\n    <tr>\n      <th>0</th>\n      <td>2402</td>\n      <td>Como fazer hash de senhas de forma segura?</td>\n      <td>&lt;p&gt;Se eu fizer o &lt;em&gt;&lt;a href=\"http://pt.wikipe...</td>\n      <td>&lt;hash&gt;&lt;segurança&gt;&lt;senhas&gt;&lt;criptografia&gt;</td>\n      <td>350</td>\n      <td>22367</td>\n      <td>Se eu fizer o hash de senhas antes de armazená...</td>\n      <td>se eu fizer o hash de senhas antes de armazená...</td>\n    </tr>\n    <tr>\n      <th>1</th>\n      <td>6441</td>\n      <td>Qual é a diferença entre INNER JOIN e OUTER JOIN?</td>\n      <td>&lt;p&gt;Qual é a diferença entre &lt;code&gt;INNER JOIN&lt;/...</td>\n      <td>&lt;sql&gt;&lt;join&gt;</td>\n      <td>276</td>\n      <td>176953</td>\n      <td>Qual é a diferença entre CODE e CODE? Podem me...</td>\n      <td>qual é a diferença entre code e code podem me ...</td>\n    </tr>\n    <tr>\n      <th>2</th>\n      <td>579</td>\n      <td>Por que não devemos usar funções do tipo mysql_*?</td>\n      <td>&lt;p&gt;Uma dúvida muito comum é por que devemos pa...</td>\n      <td>&lt;php&gt;&lt;mysql&gt;</td>\n      <td>226</td>\n      <td>9761</td>\n      <td>Uma dúvida muito comum é por que devemos parar...</td>\n      <td>uma dúvida muito comum é por que devemos parar...</td>\n    </tr>\n    <tr>\n      <th>3</th>\n      <td>2539</td>\n      <td>As mensagens de erro devem se desculpar?</td>\n      <td>&lt;p&gt;É comum encontrar uma mensagem de erro que ...</td>\n      <td>&lt;aplicação-web&gt;&lt;gui&gt;&lt;console&gt;&lt;ux&gt;</td>\n      <td>214</td>\n      <td>5075</td>\n      <td>É comum encontrar uma mensagem de erro que diz...</td>\n      <td>é comum encontrar uma mensagem de erro que diz...</td>\n    </tr>\n    <tr>\n      <th>4</th>\n      <td>17501</td>\n      <td>Qual é a diferença de API, biblioteca e Framew...</td>\n      <td>&lt;p&gt;Me parecem termos muito próximos e eventual...</td>\n      <td>&lt;api&gt;&lt;framework&gt;&lt;terminologia&gt;&lt;biblioteca&gt;</td>\n      <td>193</td>\n      <td>54191</td>\n      <td>Me parecem termos muito próximos e eventualmen...</td>\n      <td>me parecem termos muito próximos e eventualmen...</td>\n    </tr>\n  </tbody>\n</table>\n</div>"
     },
     "metadata": {},
     "execution_count": 31
    }
   ],
   "source": [
    "questoes_pt_sem_pont=remover(df_pt.sem_tag_sem_code,regex_pontuacao)\n",
    "questoes_pt_sem_pont_minus=minusculo(questoes_pt_sem_pont)\n",
    "questoes_pt_sem_pont_minus_dig=remover(questoes_pt_sem_pont_minus,regex_digitos)\n",
    "questoes_pt_sem_quebra_de_linha=substituir_por_espaco(questoes_pt_sem_pont_minus_dig,regex_quebra_linha)\n",
    "questoes_pt_sem_pont_minus_dig_espaco_dup=substituir_por_espaco(questoes_pt_sem_quebra_de_linha,regex_espaco_duplo)\n",
    "\n",
    "df_pt['tratados']=questoes_pt_sem_pont_minus_dig_espaco_dup\n",
    "df_pt.head()"
   ]
  },
  {
   "cell_type": "code",
   "execution_count": 32,
   "metadata": {},
   "outputs": [
    {
     "output_type": "execute_result",
     "data": {
      "text/plain": [
       "      Id                                             Título  \\\n",
       "0  18232              ¿Cómo evitar la inyección SQL en PHP?   \n",
       "1    197  ¿Por qué mis programas no pueden hacer cálculo...   \n",
       "2     36  ¿Cuál es la diferencia entre un inner y un out...   \n",
       "3  29177  ¿Por qué es considerado una mala práctica util...   \n",
       "4    142  Validar un email en JavaScript que acepte todo...   \n",
       "\n",
       "                                             Questão  \\\n",
       "0  <p>Las sentencias dinámicas son sentencias SQL...   \n",
       "1  <p>Unas veces los cálculos funcionan correctam...   \n",
       "2  <p>¿Cuál es la diferencia entre un <code>inner...   \n",
       "3  <p>La mayoría de nosotros decimos, (muchas vec...   \n",
       "4  <h3>Pregunta</h3>\\n\\n<p>¿Cómo validar un e-mai...   \n",
       "\n",
       "                                                Tags  Pontuação  \\\n",
       "0        <php><mysql><sql><seguridad><inyección-sql>        169   \n",
       "1   <matemáticas><coma-flotante><lenguaje-agnóstico>        141   \n",
       "2                                 <mysql><sql><join>         97   \n",
       "3  <variables><variables-globales><patrones-de-di...         89   \n",
       "4             <javascript><validación><email><regex>         87   \n",
       "\n",
       "   Visualizações                                   sem_tag_sem_code  \\\n",
       "0          38614  Las sentencias dinámicas son sentencias SQL qu...   \n",
       "1           3860  Unas veces los cálculos funcionan correctament...   \n",
       "2          53627  ¿Cuál es la diferencia entre un CODE y un CODE...   \n",
       "3           9987  La mayoría de nosotros decimos, (muchas veces ...   \n",
       "4          73129  Pregunta\\n\\n¿Cómo validar un e-mail que acepte...   \n",
       "\n",
       "                                            tratados  \n",
       "0  las sentencias dinámicas son sentencias sql qu...  \n",
       "1  unas veces los cálculos funcionan correctament...  \n",
       "2  cuál es la diferencia entre un code y un code ...  \n",
       "3  la mayoría de nosotros decimos muchas veces si...  \n",
       "4  pregunta cómo validar un email que acepte todo...  "
      ],
      "text/html": "<div>\n<style scoped>\n    .dataframe tbody tr th:only-of-type {\n        vertical-align: middle;\n    }\n\n    .dataframe tbody tr th {\n        vertical-align: top;\n    }\n\n    .dataframe thead th {\n        text-align: right;\n    }\n</style>\n<table border=\"1\" class=\"dataframe\">\n  <thead>\n    <tr style=\"text-align: right;\">\n      <th></th>\n      <th>Id</th>\n      <th>Título</th>\n      <th>Questão</th>\n      <th>Tags</th>\n      <th>Pontuação</th>\n      <th>Visualizações</th>\n      <th>sem_tag_sem_code</th>\n      <th>tratados</th>\n    </tr>\n  </thead>\n  <tbody>\n    <tr>\n      <th>0</th>\n      <td>18232</td>\n      <td>¿Cómo evitar la inyección SQL en PHP?</td>\n      <td>&lt;p&gt;Las sentencias dinámicas son sentencias SQL...</td>\n      <td>&lt;php&gt;&lt;mysql&gt;&lt;sql&gt;&lt;seguridad&gt;&lt;inyección-sql&gt;</td>\n      <td>169</td>\n      <td>38614</td>\n      <td>Las sentencias dinámicas son sentencias SQL qu...</td>\n      <td>las sentencias dinámicas son sentencias sql qu...</td>\n    </tr>\n    <tr>\n      <th>1</th>\n      <td>197</td>\n      <td>¿Por qué mis programas no pueden hacer cálculo...</td>\n      <td>&lt;p&gt;Unas veces los cálculos funcionan correctam...</td>\n      <td>&lt;matemáticas&gt;&lt;coma-flotante&gt;&lt;lenguaje-agnóstico&gt;</td>\n      <td>141</td>\n      <td>3860</td>\n      <td>Unas veces los cálculos funcionan correctament...</td>\n      <td>unas veces los cálculos funcionan correctament...</td>\n    </tr>\n    <tr>\n      <th>2</th>\n      <td>36</td>\n      <td>¿Cuál es la diferencia entre un inner y un out...</td>\n      <td>&lt;p&gt;¿Cuál es la diferencia entre un &lt;code&gt;inner...</td>\n      <td>&lt;mysql&gt;&lt;sql&gt;&lt;join&gt;</td>\n      <td>97</td>\n      <td>53627</td>\n      <td>¿Cuál es la diferencia entre un CODE y un CODE...</td>\n      <td>cuál es la diferencia entre un code y un code ...</td>\n    </tr>\n    <tr>\n      <th>3</th>\n      <td>29177</td>\n      <td>¿Por qué es considerado una mala práctica util...</td>\n      <td>&lt;p&gt;La mayoría de nosotros decimos, (muchas vec...</td>\n      <td>&lt;variables&gt;&lt;variables-globales&gt;&lt;patrones-de-di...</td>\n      <td>89</td>\n      <td>9987</td>\n      <td>La mayoría de nosotros decimos, (muchas veces ...</td>\n      <td>la mayoría de nosotros decimos muchas veces si...</td>\n    </tr>\n    <tr>\n      <th>4</th>\n      <td>142</td>\n      <td>Validar un email en JavaScript que acepte todo...</td>\n      <td>&lt;h3&gt;Pregunta&lt;/h3&gt;\\n\\n&lt;p&gt;¿Cómo validar un e-mai...</td>\n      <td>&lt;javascript&gt;&lt;validación&gt;&lt;email&gt;&lt;regex&gt;</td>\n      <td>87</td>\n      <td>73129</td>\n      <td>Pregunta\\n\\n¿Cómo validar un e-mail que acepte...</td>\n      <td>pregunta cómo validar un email que acepte todo...</td>\n    </tr>\n  </tbody>\n</table>\n</div>"
     },
     "metadata": {},
     "execution_count": 32
    }
   ],
   "source": [
    "questoes_sp_sem_pont=remover(df_sp.sem_tag_sem_code,regex_pontuacao)\n",
    "questoes_sp_sem_pont_minus=minusculo(questoes_sp_sem_pont)\n",
    "questoes_sp_sem_pont_minus_dig=remover(questoes_sp_sem_pont_minus,regex_digitos)\n",
    "questoes_sp_sem_quebra_de_linha=substituir_por_espaco(questoes_sp_sem_pont_minus_dig,regex_quebra_linha)\n",
    "questoes_sp_sem_pont_minus_dig_espaco_dup=substituir_por_espaco(questoes_sp_sem_quebra_de_linha,regex_espaco_duplo)\n",
    "\n",
    "df_sp['tratados']=questoes_sp_sem_pont_minus_dig_espaco_dup\n",
    "df_sp.head()"
   ]
  },
  {
   "cell_type": "code",
   "execution_count": 35,
   "metadata": {},
   "outputs": [],
   "source": [
    "from nltk.util import bigrams\n",
    "from nltk.lm.preprocessing import pad_both_ends"
   ]
  },
  {
   "cell_type": "code",
   "execution_count": 34,
   "metadata": {},
   "outputs": [
    {
     "output_type": "stream",
     "name": "stdout",
     "text": [
      "[('e', 's'), ('s', 't'), ('t', 'e'), ('e', 'v'), ('v', 'a'), ('a', 'n')]\n"
     ]
    }
   ],
   "source": [
    "texto_teste='estevan'\n",
    "print(list(bigrams(texto_teste)))"
   ]
  },
  {
   "cell_type": "code",
   "execution_count": 36,
   "metadata": {},
   "outputs": [
    {
     "output_type": "stream",
     "name": "stdout",
     "text": [
      "[('<s>', 'e'), ('e', 's'), ('s', 't'), ('t', 'e'), ('e', 'v'), ('v', 'a'), ('a', 'n'), ('n', '</s>')]\n"
     ]
    }
   ],
   "source": [
    "print(list(bigrams(pad_both_ends(texto_teste,n=2)))) ### pad_both_ends indica para o testo o que é inicio e fim de palavra"
   ]
  },
  {
   "cell_type": "code",
   "execution_count": 37,
   "metadata": {},
   "outputs": [],
   "source": [
    "df_en['idioma']='en'\n",
    "df_pt['idioma']='pt'\n",
    "df_sp['idioma']='esp'"
   ]
  },
  {
   "cell_type": "code",
   "execution_count": 38,
   "metadata": {},
   "outputs": [],
   "source": [
    "from sklearn.model_selection import train_test_split"
   ]
  },
  {
   "cell_type": "code",
   "execution_count": 39,
   "metadata": {},
   "outputs": [
    {
     "output_type": "execute_result",
     "data": {
      "text/plain": [
       "500"
      ]
     },
     "metadata": {},
     "execution_count": 39
    }
   ],
   "source": [
    "len(df_pt)"
   ]
  },
  {
   "cell_type": "code",
   "execution_count": 163,
   "metadata": {},
   "outputs": [],
   "source": [
    "port_treino,port_teste=train_test_split(df_pt.tratados,test_size=0.2,random_state=123)\n",
    "esp_treino,esp_teste=train_test_split(df_sp.tratados,test_size=0.2,random_state=123)\n",
    "en_treino,en_teste=train_test_split(df_en.tratados,test_size=0.2,random_state=123)"
   ]
  },
  {
   "cell_type": "code",
   "execution_count": 43,
   "metadata": {},
   "outputs": [],
   "source": [
    "todas_questoes_port=' '.join(port_treino)"
   ]
  },
  {
   "cell_type": "code",
   "execution_count": 45,
   "metadata": {},
   "outputs": [],
   "source": [
    "from nltk.tokenize import WhitespaceTokenizer"
   ]
  },
  {
   "cell_type": "code",
   "execution_count": 46,
   "metadata": {
    "tags": [
     "outputPrepend"
    ]
   },
   "outputs": [
    {
     "output_type": "stream",
     "name": "stdout",
     "text": [
      " 'apagado', 'entre', 'o', 'teste', 'e', 'o', 'uso', 'e', 'se', 'o', 'programa', 'não', 'está', 'preparado', 'para', 'isso', 'seu', 'comportamento', 'nessa', 'situação', 'pode', 'ficar', 'incorreto', 'entendo', 'que', 'se', 'uma', 'linguagemplataforma', 'segue', 'um', 'determinado', 'paradigma', 'é', 'aconselhável', 'se', 'ater', 'a', 'ele', 'nem', 'que', 'seja', 'por', 'questões', 'de', 'consistência', 'mas', 'assumindose', 'que', 'não', 'só', 'linguagens', 'novas', 'possam', 'ser', 'criadas', 'como', 'as', 'existentes', 'possam', 'ser', 'aprimoradas', 'pergunto', 'existem', 'vantagens', 'claras', 'de', 'um', 'desses', 'paradigmas', 'sobre', 'o', 'outro', 'ou', 'talvez', 'situações', 'específicas', 'em', 'que', 'se', 'justifique', 'usar', 'um', 'ou', 'outro', 'padrão', 'mesmo', 'que', 'contrarie', 'as', 'recomendações', 'oficiais', 'que', 'parâmetros', 'eu', 'devo', 'observar', 'ao', 'decidir', 'entre', 'uma', 'abordagem', 'e', 'outra', 'a', 'título', 'de', 'exemplo', 'há', 'muitas', 'situações', 'em', 'que', 'o', 'argumento', 'da', 'condição', 'de', 'corrida', 'não', 'se', 'aplica', 'quando', 'os', 'dados', 'envolvidos', 'na', 'operação', 'são', 'imutáveis', 'por', 'exemplo', 'por', 'fim', 'há', 'algum', 'meio', 'termo', 'razoável', 'que', 'combine', 'os', 'benefícios', 'de', 'ambos', 'sem', 'que', 'o', 'ônus', 'caia', 'no', 'programador', 'por', 'exemplo', 'poderia', 'testar', 'se', 'o', 'arquivo', 'existe', 'e', 'usar', 'um', 'code', 'em', 'seguida', 'mas', 'isso', 'seria', 'redundante', 'nota', 'peço', 'que', 'esse', 'último', 'ponto', 'caso', 'abordado', 'na', 'resposta', 'venha', 'acompanhado', 'de', 'fontes', 'confiáveis', 'para', 'evitar', 'mera', 'especulação', 'ps', 'algumas', 'referências', 'demonstrando', 'que', 'esse', 'uso', 'corriqueiro', 'de', 'exceções', 'é', 'de', 'fato', 'bastante', 'recomendado', 'na', 'comunidade', 'python', 'em', 'oposição', 'à', 'maioria', 'das', 'outras', 'better', 'to', 'try', 'something', 'and', 'catch', 'the', 'exception', 'or', 'test', 'if', 'its', 'possible', 'first', 'to', 'avoid', 'an', 'exception', 'is', 'it', 'a', 'good', 'practice', 'to', 'use', 'tryexceptelse', 'in', 'python', 'how', 'do', 'i', 'check', 'if', 'a', 'string', 'is', 'a', 'number', 'in', 'python', 'python', 'exception', 'handling', 'techniques', 'look', 'before', 'you', 'leap', 'vs', 'easier', 'to', 'ask', 'for', 'forgiveness', 'than', 'permission', 'exceptions', 'and', 'file', 'handling', 'dive', 'into', 'python', 'o', 'que', 'é', 'a', 'complexidade', 'de', 'um', 'algoritmo', 'e', 'quais', 'as', 'formas', 'de', 'medila', 'big', 'o', 'big', 'theta', 'tenho', 'uma', 'página', 'e', 'nela', 'o', 'conteúdo', 'que', 'quero', 'imprimir', 'criei', 'um', 'comando', 'em', 'javascript', 'porém', 'esse', 'comando', 'faz', 'imprimir', 'a', 'página', 'inteira', 'existe', 'alguma', 'forma', 'de', 'ser', 'impresso', 'apenas', 'o', 'conteúdo', 'de', 'uma', 'code', 'quando', 'devo', 'usar', 'um', 'arquivo', 'javascript', 'ou', 'jquery', 'com', 'arquivo', 'code', 'e', 'codepuro', 'tipo', 'code', 'a', 'partir', 'do', 'php', 'temos', 'o', 'code', 'que', 'são', 'mecanismos', 'que', 'ajudam', 'e', 'muito', 'a', 'reutilização', 'de', 'código', 'e', 'servem', 'perfeitamente', 'para', 'resolver', 'o', 'problema', 'da', 'falta', 'de', 'herança', 'múltipla', 'exemplo', 'de', 'classe', 'abastrata', 'code', 'exemplo', 'com', 'traits', 'e', 'interfaces', 'code', 'para', 'os', 'dois', 'casos', 'eu', 'poderia', 'fazer', 'algo', 'como', 'code', 'aí', 'surgiu', 'algumas', 'confusões', 'na', 'minha', 'mente', 'quando', 'é', 'que', 'devo', 'utilizar', 'uma', 'classe', 'abstrata', 'ou', 'uma', 'simples', 'herança', 'quando', 'é', 'que', 'devo', 'utilizar', 'o', 'trait', 'seguido', 'de', 'uma', 'interface', 'implementada', 'na', 'classe', 'que', 'vai', 'usálo', 'segundo', 'algumas', 'recomendações', 'que', 'li', 'internet', 'a', 'fora', 'por', 'que', 'dizem', 'não', 'ser', 'recomendável', 'utilizar', 'um', 'code', 'sem', 'implementar', 'code', 'devo', 'implementar', 'uma', 'interface', 'numa', 'code', 'visto', 'que', 'a', 'própria', 'classe', 'abstrata', 'já', 'pode', 'forçar', 'a', 'criação', 'de', 'um', 'método', 'para', 'a', 'classe', 'que', 'extenderá', 'a', 'classe', 'abstrata', 'o', 'seguinte', 'código', 'imprime', 'vezes', 'o', 'texto', 'mensagem', 'em', 'um', 'code', 'code', 'veja', 'o', 'exemplo', 'no', 'jsfiddle', 'eu', 'entendo', 'que', 'isso', 'ocorre', 'porque', 'o', 'valor', 'de', 'code', 'é', 'atualizado', 'na', 'função', 'externa', 'e', 'no', 'momento', 'da', 'execução', 'da', 'função', 'interna', 'a', 'referência', 'aponta', 'para', 'o', 'valor', 'atualizado', 'como', 'fazer', 'para', 'imprimir', 'o', 'valor', 'da', 'variável', 'code', 'correspondente', 'ao', 'número', 'da', 'iteração', 'ou', 'seja', 'o', 'valor', 'de', 'code', 'no', 'momento', 'em', 'que', 'a', 'função', 'interna', 'foi', 'criada', 'na', 'chamado', 'do', 'code', 'resultando', 'em', 'textos', 'de', 'mensagem', 'a', 'mensagem', 'pelo', 'que', 'percebo', 'vejo', 'um', 'recuo', 'em', 'relação', 'a', 'outro', 'elemento', 'quando', 'definidas', 'as', 'propriedades', 'code', 'existe', 'diferença', 'entre', 'code', 'e', 'code', 'no', 'css', 'uma', 'resposta', 'com', 'exemplosimagens', 'ou', 'código', 'ajudaria', 'bastante', 'no', 'entendimento', 'da', 'questão', 'atualmente', 'temos', 'percebido', 'que', 'muita', 'gente', 'vem', 'utilizando', 'a', 'tag', 'code', 'para', 'ícones', 'e', 'não', 'para', 'itálico', 'se', 'ainda', 'estivéssemos', 'na', 'era', 'préhtml', 'isso', 'estaria', 'totalmente', 'errado', 'segundo', 'especificação', 'da', 'tag', 'code', 'do', 'html', 'agora', 'ela', 'é', 'utilizada', 'para', 'o', 'texto', 'de', 'uma', 'voz', 'alternativa', 'como', 'palavras', 'estrangeiras', 'transliteradas', 'termos', 'técnicos', 'e', 'tipografias', 'então', 'se', 'utilizarmos', 'icon', 'fonts', 'que', 'são', 'tipografias', 'de', 'imagens', 'o', 'código', 'continuará', 'semanticamente', 'correto', 'certo', 'em', 'linguagens', 'como', 'java', 'os', 'parâmetros', 'de', 'métodos', 'são', 'validados', 'na', 'compilação', 'pelo', 'menos', 'o', 'tipo', 'code', 'em', 'linguagens', 'de', 'tipagem', 'dinâmica', 'como', 'javascript', 'é', 'recomendado', 'validar', 'a', 'entrada', 'para', 'evitar', 'problemas', 'code', 'isso', 'fica', 'mais', 'complexo', 'quando', 'se', 'trabalha', 'com', 'objetos', 'e', 'arrays', 'code', 'entre', 'os', 'problemas', 'de', 'tantas', 'validações', 'está', 'código', 'poluído', 'desempenho', 'da', 'aplicação', 'prejudicado', 'apesar', 'disso', 'isto', 'pode', 'evitar', 'alguns', 'problemas', 'até', 'que', 'ponto', 'ir', 'com', 'esta', 'estória', 'de', 'validação', 'de', 'entrada', 'existe', 'alguma', 'alternativa', 'mais', 'interessante', 'o', 'operador', 'code', 'diz', 'que', 'as', 'strings', 'são', 'diferentes', 'sendo', 'que', 'elas', 'armazenam', 'o', 'mesmo', 'valor', 'literal', 'veja', 'o', 'exemplo', 'code', 'resultado', 'code', 'como', 'fazer', 'para', 'comparar', 'o', 'valor', 'literal', 'das', 'strings', 'sempre', 'tenho', 'visto', 'em', 'alguns', 'frameworks', 'que', 'trabalham', 'com', 'rest', 'ou', 'com', 'envio', 'de', 'dados', 'em', 'formato', 'json', 'numa', 'requisição', 'o', 'uso', 'da', 'expressão', 'payload', 'o', 'que', 'significa', 'esse', 'nome', 'em', 'requisições', 'http', 'o', 'que', 'é', 'especificamente', 'um', 'payload', 'é', 'um', 'corpo', 'de', 'uma', 'requisição', 'em', 'formato', 'json', 'um', 'exemplo', 'do', 'termo', 'sendo', 'usado', 'pelo', 'google', 'chrome', 'exemplo', 'exemplo', 'qual', 'é', 'a', 'melhor', 'forma', 'de', 'iterar', 'os', 'objetos', 'em', 'um', 'code', 'no', 'java', 'de', 'forma', 'a', 'ter', 'acesso', 'à', 'chave', 'e', 'ao', 'valor', 'de', 'cada', 'entrada', 'estou', 'estudando', 'javascript', 'e', 'tenho', 'dúvidas', 'quanto', 'às', 'diferentes', 'formas', 'de', 'se', 'fazer', 'um', 'code', 'code', 'por', 'exemplo', 'isto', 'code', 'como', 'exatamente', 'funciona', 'geralmente', 'quando', 'precisamos', 'recorrer', 'à', 'requisições', 'ajax', 'usando', 'javascript', 'temos', 'à', 'mão', 'apis', 'que', 'nos', 'auxiliam', 'com', 'isso', 'ex', 'jquery', 'porém', 'qual', 'seria', 'a', 'maneira', 'mais', 'segura', 'e', 'crossbrowser', 'de', 'realizar', 'essas', 'requisições', 'post', 'e', 'get', 'usando', 'javascript', 'puro', 'às', 'vezes', 'parece', 'que', 'estamos', 'falamos', 'da', 'mesma', 'coisa', 'claro', 'não', 'é', 'quando', 'estes', 'conceitos', 'estão', 'sendo', 'utilizados', 'qual', 'é', 'a', 'real', 'diferença', 'entre', 'eles', 'quando', 'utilizar', 'um', 'ou', 'outro', 'me', 'parece', 'que', 'o', 'conceito', 'de', 'protótipo', 'é', 'fundamental', 'em', 'javascript', 'e', 'inclusive', 'em', 'vários', 'lugares', 'tenho', 'lido', 'que', 'é', 'um', 'de', 'seus', 'pontos', 'fortes', 'entretanto', 'este', 'não', 'parece', 'um', 'conceito', 'tão', 'simples', 'de', 'entender', 'para', 'quem', 'vem', 'de', 'outras', 'linguagens', 'assim', 'pergunto', 'como', 'funcionam', 'protótipos', 'em', 'javascript', 'durante', 'meus', 'trabalhos', 'eu', 'aprendi', 'uma', 'forma', 'de', 'lidar', 'com', 'code', 'mas', 'não', 'sei', 'se', 'é', 'muito', 'boa', 'aqui', 'vai', 'um', 'exemplo', 'do', 'código', 'code', 'a', 'minha', 'ideia', 'é', 'mapear', 'os', 'erros', 'e', 'jogar', 'a', 'responsabilidade', 'de', 'seu', 'tratamento', 'para', 'o', 'método', 'principal', 'para', 'ser', 'mais', 'objetivo', 'vou', 'direto', 'as', 'perguntas', 'gostaria', 'de', 'saber', 'a', 'opnião', 'de', 'vocês', 'existe', 'uma', 'forma', 'melhor', 'correta', 'de', 'propagar', 'e', 'exibir', 'as', 'exceções', 'de', 'forma', 'simples', 'essa', 'é', 'uma', 'boa', 'forma', 'de', 'lidar', 'com', 'exceptions', 'qual', 'a', 'importância', 'de', 'capturar', 'code', 'mais', 'especificas', 'por', 'exemplo', 'dividebyzeroexception', 'o', 'que', 'é', 'o', 'cgi', 'common', 'gateway', 'interface', 'e', 'o', 'que', 'ele', 'faz', 'é', 'uma', 'tecnologia', 'antiga', 'existem', 'outras', 'alternativas', 'a', 'ele', 'se', 'sim', 'quais', 'encontrei', 'em', 'um', 'arquivo', 'minificado', 'do', 'bootstrap', 'o', 'seguinte', 'code', 'o', 'operador', 'code', 'parece', 'estar', 'sendo', 'aplicado', 'entre', 'duas', 'strings', 'o', 'que', 'significa', 'isso', 'o', 'que', 'é', 'oauth', 'qual', 'sua', 'finalidade', 'o', 'que', 'ele', 'faz', 'existe', 'outras', 'tecnologias', 'alternativas', 'a', 'ele', 'o', 'dry', 'significa', 'dont', 'repeat', 'yourself', 'então', 'toda', 'vez', 'que', 'eu', 'ver', 'uma', 'repetição', 'no', 'código', 'não', 'estou', 'fazendo', 'dry', 'o', 'dry', 'é', 'sobre', 'não', 'ter', 'redundâncias', 'como', 'ele', 'deve', 'ser', 'aplicado', 'no', 'método', 'code', 'da', 'classe', 'code', 'eu', 'tenho', 'configurado', 'um', 'code', 'code', 'isso', 'faz', 'com', 'que', 'os', 'dados', 'recebidos', 'ou', 'enviados', 'por', 'json', 'sejam', 'convertidos', 'de', 'code', 'padrão', 'do', 'client', 'javascript', 'para', 'code', 'padrão', 'que', 'uso', 'nas', 'propriedades', 'no', 'server', 'e', 'viceversa', 'ex', 'de', 'json', 'que', 'a', 'api', 'recebe', 'num', 'método', 'code', 'normal', 'sem', 'usar', 'o', 'code', 'code', 'isso', 'é', 'traduzido', 'para', 'code', 'até', 'aí', 'tudo', 'bem', 'o', 'problema', 'é', 'que', 'eu', 'tenho', 'uma', 'code', 'code', 'em', 'um', 'code', 'que', 'faz', 'uso', 'do', 'code', 'e', 'as', 'requisições', 'que', 'são', 'enviadas', 'para', 'este', 'método', 'acabam', 'não', 'passando', 'por', 'esta', 'tradução', 'eu', 'li', 'em', 'alguns', 'lugares', 'que', 'o', 'odata', 'usa', 'um', 'serializador', 'e', 'um', 'deserializador', 'próprio', 'e', 'este', 'deve', 'ser', 'o', 'problema', 'método', 'code', 'do', 'code', 'code', 'existe', 'alguma', 'forma', 'de', 'tratar', 'o', 'casing', 'dos', 'dados', 'recebidos', 'em', 'code', 'que', 'usam', 'odata', 'eu', 'vou', 'precisar', 'escrever', 'um', 'novo', 'serializador', 'ou', 'já', 'tem', 'algo', 'pronto', 'que', 'possa', 'me', 'ajudar', 'com', 'isso', 'se', 'for', 'necessário', 'escrever', 'um', 'serializador', 'é', 'possível', 'me', 'ajudar', 'com', 'pelo', 'menos', 'a', 'implementação', 'básica', 'do', 'mesmo', 'exemplo', 'do', 'json', 'que', 'recebo', 'no', 'método', 'com', 'code', 'code', 'se', 'eu', 'enviar', 'o', 'json', 'como', 'o', 'abaixo', 'funciona', 'normal', 'code', 'obs', 'estou', 'usando', 'owin', 'mas', 'a', 'aplicação', 'está', 'sendo', 'hospedada', 'no', 'iis', 'usando', 'o', 'pacote', 'code', 'qual', 'a', 'diferença', 'entre', 'ienumerable', 'iqueryable', 'e', 'list', 'no', 'net', 'quando', 'é', 'melhor', 'usar', 'uma', 'ou', 'outra', 'por', 'que', 'o', 'resharper', 'me', 'sugere', 'modificar', 'o', 'retorno', 'dessa', 'função', 'por', 'exemplo', 'de', 'code', 'code', 'para', 'code', 'code', 'ouvi', 'falar', 'muito', 'em', 'comunicação', 'assíncrona', 'e', 'síncrona', 'porém', 'não', 'sei', 'o', 'que', 'realmente', 'são', 'elas', 'alguém', 'poderia', 'me', 'explicar', 'qual', 'a', 'diferença', 'e', 'o', 'funcionamento', 'de', 'cada', 'uma', 'quando', 'e', 'para', 'que', 'devo', 'usálas', 'se', 'possível', 'com', 'exemplos', 'de', 'código', 'estou', 'com', 'o', 'seguinte', 'código', 'em', 'javascript', 'code', 'por', 'que', 'a', 'expressão', 'com', 'o', 'operador', 'code', 'retorna', 'code', 'e', 'com', 'o', 'operador', 'code', 'retorna', 'code', 'qual', 'é', 'a', 'diferença', 'entre', 'os', 'dois', 'operadores', 'otimização', 'prematura', 'é', 'quando', 'há', 'uma', 'preocupação', 'excessiva', 'por', 'parte', 'do', 'programador', 'com', 'o', 'desempenho', 'da', 'aplicação', 'ela', 'é', 'normalmente', 'condenada', 'por', 'alguns', 'programadores', 'por', 'motivos', 'como', 'isso', 'pode', 'deixar', 'o', 'código', 'mais', 'complexo', 'sua', 'produtividade', 'cai', 'você', 'perde', 'tempo', 'há', 'uma', 'grande', 'chance', 'de', 'você', 'se', 'preocupar', 'muito', 'com', 'otimizações', 'que', 'não', 'trarão', 'uma', 'melhora', 'perceptível', 'pelo', 'usuário', 'a', 'recomendação', 'seria', 'que', 'você', 'primeiro', 'fizesse', 'funcionar', 'e', 'só', 'depois', 'identificasse', 'os', 'gargalos', 'de', 'desempenhos', 'e', 'os', 'corrigisse', 'porém', 'há', 'certas', 'otimizações', 'que', 'devem', 'ser', 'levadas', 'em', 'conta', 'desde', 'o', 'início', 'pois', 'depois', 'pode', 'se', 'tornar', 'mais', 'difícil', 'otimizar', 'até', 'que', 'ponto', 'devemos', 'nos', 'preocupar', 'com', 'o', 'desempenho', 'sem', 'que', 'isso', 'cause', 'uma', 'perda', 'considerável', 'na', 'produtividade', 'no', 'desenvolvimento', 'de', 'um', 'portal', 'web', 'utilizando', 'o', 'git', 'fizemos', 'o', 'controle', 'de', 'tudo', 'que', 'foi', 'alterado', 'a', 'nível', 'de', 'código', 'no', 'ambiente', 'homologação', 'e', 'com', 'o', 'jenkins', 'subimos', 'o', 'site', 'para', 'o', 'ambiente', 'de', 'produção', 'para', 'migrar', 'o', 'banco', 'foi', 'feita', 'um', 'dump', 'de', 'toda', 'a', 'base', 'que', 'foi', 'colocada', 'no', 'outro', 'ambiente', 'o', 'problema', 'está', 'nas', 'próximas', 'modificações', 'que', 'interfiram', 'na', 'estrutura', 'ou', 'no', 'conteúdo', 'do', 'banco', 'de', 'dados', 'com', 'o', 'site', 'sendo', 'utilizado', 'novos', 'conteúdos', 'vão', 'sendo', 'adicionados', 'e', 'já', 'não', 'posso', 'realizar', 'uma', 'nova', 'cópia', 'do', 'ambiente', 'de', 'homologação', 'sem', 'riscos', 'de', 'perder', 'informações', 'se', 'todas', 'as', 'alterações', 'no', 'banco', 'fossem', 'feitas', 'manualmente', 'eu', 'poderia', 'gerar', 'um', 'arquivo', 'sql', 'e', 'rodar', 'ele', 'no', 'produção', 'quando', 'fosse', 'subir', 'novas', 'alterações', 'mas', 'a', 'instalação', 'de', 'módulos', 'e', 'componentes', 'no', 'site', 'gera', 'alterações', 'no', 'banco', 'que', 'podem', 'não', 'ser', 'tão', 'simples', 'de', 'controlar', 'manualmente', 'gostaria', 'de', 'saber', 'se', 'há', 'uma', 'forma', 'de', 'versionar', 'o', 'banco', 'de', 'dados', 'assim', 'como', 'usamos', 'o', 'git', 'para', 'versionar', 'o', 'códigofonte', 'update', 'minha', 'principal', 'necessidade', 'é', 'encontrar', 'uma', 'maneiramétodo', 'para', 'replicar', 'as', 'alterações', 'feitas', 'no', 'ambiente', 'de', 'desenvolvimento', 'para', 'o', 'ambiente', 'de', 'homologação', 'e', 'produção', 'quais', 'problemas', 'um', 'programa', 'poderá', 'enfrentar', 'com', 'o', 'uso', 'de', 'estados', 'globais', 'onde', 'ele', 'pode', 'ser', 'aceitável', 'ou', 'seja', 'como', 'saber', 'se', 'estou', 'abusando', 'do', 'recurso', 'que', 'alternativas', 'existem', 'para', 'evitar', 'isto', 'eu', 'já', 'passei', 'perto', 'do', 'assunto', 'na', 'pergunta', 'por', 'que', 'no', 'devemos', 'usar', 'singleton', 'e', 'de', 'certa', 'forma', 'motivou', 'esta', 'nova', 'pergunta', 'um', 'heisenbug', 'é', 'um', 'bug', 'que', 'muda', 'seu', 'comportamento', 'ao', 'ser', 'estudado', 'ele', 'tem', 'seu', 'nome', 'derivado', 'devido', 'ao', 'princípio', 'que', 'heisenberg', 'detectou', 'que', 'a', 'simples', 'observação', 'passiva', 'de', 'processos', 'quânticos', 'alteram', 'o', 'resultado', 'final', 'heisenbugs', 'típicos', 'acontecem', 'com', 'condições', 'de', 'corrida', 'pois', 'qualquer', 'tipo', 'de', 'medição', 'que', 'você', 'faça', 'como', 'trace', 'debugging', 'ou', 'break', 'points', 'acaba', 'por', 'sincronizar', 'os', 'processos', 'concorrentes', 'de', 'uma', 'forma', 'ou', 'de', 'outra', 'o', 'andré', 'lfs', 'bacci', 'indicou', 'que', 'usar', 'ponto', 'flutuante', 'para', 'fins', 'monetários', 'podem', 'causar', 'heisenbugs', 'na', 'física', 'quântica', 'não', 'existem', 'observações', 'puramente', 'passivas', 'mas', 'isso', 'são', 'detalhes', 'então', 'imaginem', 'que', 'estou', 'numa', 'situação', 'complicada', 'tentando', 'resolver', 'um', 'problema', 'no', 'sistema', 'e', 'até', 'consigo', 'reproduzir', 'o', 'bug', 'mas', 'quando', 'eu', 'tento', 'ver', 'mais', 'coisas', 'sobre', 'o', 'bug', 'colocando', 'um', 'break', 'point', 'estratégico', 'esse', 'bug', 'deixa', 'de', 'acontecer', 'nesse', 'momento', 'me', 'deparo', 'com', 'aquela', 'situação', 'omg', 'um', 'heisenbug', 'o', 'phb', 'me', 'pergunta', 'o', 'que', 'está', 'acontecendo', 'o', 'suporte', 'está', 'com', 'o', 'cliente', 'na', 'linha', 'preciso', 'dar', 'uma', 'resposta', 'sobre', 'como', 'está', 'o', 'andamento', 'do', 'estudo', 'desse', 'problema', 'preciso', 'pedir', 'mais', 'tempo', 'para', 'tentar', 'sanar', 'porque', 'não', 'é', 'um', 'bug', 'simples', 'mas', 'um', 'heisenbug', 'como', 'consigo', 'explicar', 'para', 'o', 'chefe', 'e', 'para', 'o', 'suporte', 'sobre', 'o', 'heisenbug', 'eles', 'não', 'são', 'os', 'mais', 'profundos', 'conhecedores', 'da', 'programação', 'acham', 'que', 'só', 'por', 'um', 'code', 'resolve', 'o', 'problema', 'magicamente', 'de', 'preferência', 'explicações', 'que', 'não', 'resultem', 'na', 'minha', 'demissão', 'o', 'que', 'acontece', 'quando', 'se', 'faz', 'um', 'rebase', 'na', 'seguinte', 'situação', 'branch', 'master', 'com', 'commits', 'a', 'b', 'e', 'c', 'após', 'fazer', 'o', 'commit', 'c', 'criei', 'um', 'novo', 'branch', 'com', 'o', 'nome', 'design', 'fiz', 'um', 'commit', 'd', 'no', 'branch', 'design', 'e', 'voltei', 'ao', 'branch', 'master', 'fiz', 'um', 'commit', 'e', 'no', 'branch', 'master', 'atualmente', 'o', 'meu', 'histórico', 'de', 'commits', 'é', 'master', 'a', 'b', 'c', 'e', 'design', 'a', 'b', 'c', 'd', 'após', 'fazer', 'o', 'rebase', 'no', 'branch', 'master', 'o', 'histórico', 'ficará', 'da', 'seguinte', 'forma', 'master', 'a', 'b', 'c', 'd', 'e', 'design', 'a', 'b', 'c', 'd', 'se', 'a', 'resposta', 'é', 'sim', 'qual', 'o', 'objetivo', 'de', 'refazer', 'o', 'histórico', 'quando', 'uma', 'das', 'vantagens', 'do', 'git', 'é', 'poder', 'ver', 'o', 'histórico', 'tal', 'como', 'ele', 'é', 'se', 'posso', 'manipular', 'o', 'histórico', 'então', 'posso', 'não', 'ver', 'o', 'que', 'realmente', 'aconteceu', 'uma', 'code', 'de', 'uma', 'classe', 'não', 'é', 'a', 'mesma', 'coisa', 'que', 'um', 'code', 'qual', 'a', 'real', 'diferença', 'entre', 'eles', 'ou', 'code', 'é', 'um', 'sinônimo', 'para', 'code', 'ou', 'viceversa', 'ou', 'varia', 'conforme', 'a', 'linguagem', 'de', 'programação']\n"
     ]
    }
   ],
   "source": [
    " todas_palavras_port=WhitespaceTokenizer().tokenize(todas_questoes_port)\n",
    " print(todas_palavras_port)"
   ]
  },
  {
   "cell_type": "code",
   "execution_count": 47,
   "metadata": {},
   "outputs": [],
   "source": [
    "from nltk.lm.preprocessing import padded_everygram_pipeline"
   ]
  },
  {
   "cell_type": "code",
   "execution_count": 48,
   "metadata": {},
   "outputs": [],
   "source": [
    "port_treino_bigram,vocab_port=padded_everygram_pipeline(2, todas_palavras_port)"
   ]
  },
  {
   "cell_type": "code",
   "execution_count": 50,
   "metadata": {},
   "outputs": [
    {
     "output_type": "stream",
     "name": "stdout",
     "text": [
      "<class 'generator'> ('<s>',)\n"
     ]
    }
   ],
   "source": [
    "print(type(port_treino_bigram),next(next(port_treino_bigram)))"
   ]
  },
  {
   "cell_type": "code",
   "execution_count": 51,
   "metadata": {},
   "outputs": [],
   "source": [
    "from nltk.lm import MLE"
   ]
  },
  {
   "cell_type": "code",
   "execution_count": 52,
   "metadata": {},
   "outputs": [],
   "source": [
    "modelo_port=MLE(2)\n",
    "modelo_port.fit(port_treino_bigram,vocab_port)"
   ]
  },
  {
   "cell_type": "code",
   "execution_count": 65,
   "metadata": {},
   "outputs": [
    {
     "output_type": "execute_result",
     "data": {
      "text/plain": [
       "['a', 's', 'e', 'r']"
      ]
     },
     "metadata": {},
     "execution_count": 65
    }
   ],
   "source": [
    "modelo_port.generate(4)"
   ]
  },
  {
   "cell_type": "code",
   "execution_count": 66,
   "metadata": {},
   "outputs": [],
   "source": [
    "from nltk.lm import NgramCounter"
   ]
  },
  {
   "cell_type": "code",
   "execution_count": 68,
   "metadata": {},
   "outputs": [
    {
     "output_type": "execute_result",
     "data": {
      "text/plain": [
       "dict_items([('n', 1161), ('r', 2334), ('</s>', 5790), ('b', 292), ('t', 554), ('i', 542), ('d', 1429), ('m', 887), ('z', 216), ('q', 66), ('s', 2052), ('l', 1373), ('g', 351), ('ç', 586), ('v', 294), ('p', 313), ('c', 399), ('j', 48), ('a', 6), ('u', 67), ('o', 120), ('x', 17), ('í', 20), ('f', 74), ('e', 5), ('ú', 1), ('y', 34), ('w', 1), ('k', 11), ('h', 1)])"
      ]
     },
     "metadata": {},
     "execution_count": 68
    }
   ],
   "source": [
    "modelo_port.counts[['a']].items()"
   ]
  },
  {
   "cell_type": "code",
   "execution_count": 93,
   "metadata": {},
   "outputs": [
    {
     "output_type": "execute_result",
     "data": {
      "text/plain": [
       "[[('<s>', 'g'), ('g', 'o'), ('o', 'o'), ('o', 'd'), ('d', '</s>')],\n",
       " [('<s>', 'm'),\n",
       "  ('m', 'o'),\n",
       "  ('o', 'r'),\n",
       "  ('r', 'n'),\n",
       "  ('n', 'i'),\n",
       "  ('i', 'n'),\n",
       "  ('n', 'g'),\n",
       "  ('g', '</s>')]]"
      ]
     },
     "metadata": {},
     "execution_count": 93
    }
   ],
   "source": [
    "texto='good morning'\n",
    "palavras=WhitespaceTokenizer().tokenize(texto)\n",
    "palavras_fakechar=[list(pad_both_ends(palavra,2)) for palavra in palavras]\n",
    "palavras_bigram=[list(bigrams(palavra)) for palavra in palavras_fakechar]\n",
    "palavras_bigram"
   ]
  },
  {
   "cell_type": "code",
   "execution_count": 94,
   "metadata": {},
   "outputs": [
    {
     "output_type": "stream",
     "name": "stdout",
     "text": [
      "47.67050825747126 21.535588522214386\n"
     ]
    }
   ],
   "source": [
    "print(modelo_port.perplexity(palavras_bigram[0]),modelo_port.perplexity(palavras_bigram[1]))"
   ]
  },
  {
   "cell_type": "code",
   "execution_count": 87,
   "metadata": {},
   "outputs": [],
   "source": [
    "def treinar_modelo_MLE(lista_textos):\n",
    "    todas_questoes=' '.join(lista_textos)\n",
    "    todas_palavras=WhitespaceTokenizer().tokenize(todas_questoes)\n",
    "    bigrams,vocab=padded_everygram_pipeline(2,todas_palavras)\n",
    "    modelo=MLE(2)\n",
    "    modelo.fit(bigrams,vocab)\n",
    "    return modelo"
   ]
  },
  {
   "cell_type": "code",
   "execution_count": 161,
   "metadata": {},
   "outputs": [],
   "source": [
    "modelo_port_2=treinar_modelo_MLE(port_treino)"
   ]
  },
  {
   "cell_type": "code",
   "execution_count": 95,
   "metadata": {},
   "outputs": [
    {
     "output_type": "stream",
     "name": "stdout",
     "text": [
      "47.67178908687439 21.535806001201696\n"
     ]
    }
   ],
   "source": [
    "print(modelo_port_2.perplexity(palavras_bigram[0]),modelo_port_2.perplexity(palavras_bigram[1]))"
   ]
  },
  {
   "cell_type": "code",
   "execution_count": 162,
   "metadata": {},
   "outputs": [],
   "source": [
    "modelo_esp=treinar_modelo_MLE(esp_treino)\n",
    "modelo_en=treinar_modelo_MLE(en_treino)"
   ]
  },
  {
   "cell_type": "code",
   "execution_count": 96,
   "metadata": {},
   "outputs": [
    {
     "output_type": "stream",
     "name": "stdout",
     "text": [
      "17.26133308212415 12.900755877319751\n32.15357126058061 22.401851392617296\n"
     ]
    }
   ],
   "source": [
    "print(modelo_en.perplexity(palavras_bigram[0]),modelo_en.perplexity(palavras_bigram[1]))\n",
    "print(modelo_esp.perplexity(palavras_bigram[0]),modelo_esp.perplexity(palavras_bigram[1]))"
   ]
  },
  {
   "cell_type": "code",
   "execution_count": 98,
   "metadata": {},
   "outputs": [],
   "source": [
    "def calcular_perplexidade(modelo,lista_textos):\n",
    "    perplexidade=0\n",
    "    palavras=WhitespaceTokenizer().tokenize(lista_textos)\n",
    "    palavras_fakechar=[list(pad_both_ends(palavra,2)) for palavra in palavras]\n",
    "    palavras_bigram=[list(bigrams(palavra)) for palavra in palavras_fakechar]\n",
    "    for palavra in palavras_bigram:\n",
    "        perplexidade+=modelo.perplexity(palavra)\n",
    "    return perplexidade"
   ]
  },
  {
   "cell_type": "code",
   "execution_count": 101,
   "metadata": {},
   "outputs": [
    {
     "output_type": "execute_result",
     "data": {
      "text/plain": [
       "2006.996969376799"
      ]
     },
     "metadata": {},
     "execution_count": 101
    }
   ],
   "source": [
    "calcular_perplexidade(modelo_port,port_teste.iloc[0])"
   ]
  },
  {
   "cell_type": "code",
   "execution_count": 102,
   "metadata": {},
   "outputs": [
    {
     "output_type": "execute_result",
     "data": {
      "text/plain": [
       "inf"
      ]
     },
     "metadata": {},
     "execution_count": 102
    }
   ],
   "source": [
    "calcular_perplexidade(modelo_en,port_teste.iloc[0])"
   ]
  },
  {
   "cell_type": "code",
   "execution_count": 103,
   "metadata": {},
   "outputs": [],
   "source": [
    "from nltk.lm import Laplace"
   ]
  },
  {
   "cell_type": "code",
   "execution_count": 104,
   "metadata": {},
   "outputs": [],
   "source": [
    "def treinar_modelo_Laplace(lista_textos):\n",
    "    todas_questoes=' '.join(lista_textos)\n",
    "    todas_palavras=WhitespaceTokenizer().tokenize(todas_questoes)\n",
    "    bigrams,vocab=padded_everygram_pipeline(2,todas_palavras)\n",
    "    modelo=Laplace(2)\n",
    "    modelo.fit(bigrams,vocab)\n",
    "    return modelo"
   ]
  },
  {
   "cell_type": "code",
   "execution_count": 110,
   "metadata": {},
   "outputs": [],
   "source": [
    "modelo_en_laplace=treinar_modelo_Laplace(en_treino)\n",
    "modelo_esp_laplace=treinar_modelo_Laplace(esp_treino)\n",
    "modelo_port_laplace=treinar_modelo_Laplace(port_treino)\n"
   ]
  },
  {
   "cell_type": "code",
   "execution_count": 112,
   "metadata": {},
   "outputs": [
    {
     "output_type": "stream",
     "name": "stdout",
     "text": [
      "5876.837588345698 3488.5698949157722 2009.1937946178912\n"
     ]
    }
   ],
   "source": [
    "print(calcular_perplexidade(modelo_en_laplace,port_teste.iloc[0]),calcular_perplexidade(modelo_esp_laplace,port_teste.iloc[0]),calcular_perplexidade(modelo_port_laplace,port_teste.iloc[0]))"
   ]
  },
  {
   "cell_type": "code",
   "execution_count": 115,
   "metadata": {},
   "outputs": [],
   "source": [
    "def atribui_idioma(lista_textos):\n",
    "    idioma=[]\n",
    "    for texto in lista_textos:\n",
    "        portugues=calcular_perplexidade(modelo_port_laplace,texto)\n",
    "        ingles=calcular_perplexidade(modelo_en_laplace,texto)\n",
    "        espanhol=calcular_perplexidade(modelo_esp_laplace,texto)\n",
    "        if ingles>=portugues:\n",
    "            if portugues<=espanhol:\n",
    "                idioma.append('portugues')\n",
    "            else:\n",
    "                idioma.append('espanhol')\n",
    "        else:\n",
    "            if ingles<=espanhol:\n",
    "                idioma.append('ingles')\n",
    "            else:\n",
    "                idioma.append('espanhol')\n",
    "    return idioma"
   ]
  },
  {
   "cell_type": "code",
   "execution_count": 122,
   "metadata": {},
   "outputs": [],
   "source": [
    "resultados_portugues=atribui_idioma(port_teste)"
   ]
  },
  {
   "cell_type": "code",
   "execution_count": 123,
   "metadata": {},
   "outputs": [
    {
     "output_type": "execute_result",
     "data": {
      "text/plain": [
       "100"
      ]
     },
     "metadata": {},
     "execution_count": 123
    }
   ],
   "source": [
    "resultados_portugues.count('portugues')/len(port_teste)"
   ]
  },
  {
   "cell_type": "code",
   "execution_count": 126,
   "metadata": {},
   "outputs": [
    {
     "output_type": "execute_result",
     "data": {
      "text/plain": [
       "1.0"
      ]
     },
     "metadata": {},
     "execution_count": 126
    }
   ],
   "source": [
    "resultados_ingles=atribui_idioma(en_teste)\n",
    "resultados_ingles.count('ingles')/len(en_teste)"
   ]
  },
  {
   "cell_type": "code",
   "execution_count": 130,
   "metadata": {},
   "outputs": [
    {
     "output_type": "execute_result",
     "data": {
      "text/plain": [
       "0.97"
      ]
     },
     "metadata": {},
     "execution_count": 130
    }
   ],
   "source": [
    "resultados_espanhol=atribui_idioma(esp_teste)\n",
    "resultados_espanhol.count('espanhol')/len(esp_teste)"
   ]
  },
  {
   "source": [
    "# Testendo outros Ngrams\n"
   ],
   "cell_type": "markdown",
   "metadata": {}
  },
  {
   "cell_type": "code",
   "execution_count": 164,
   "metadata": {},
   "outputs": [],
   "source": [
    "def treinar_modelo_Laplace_Ngrams(Ngram,lista_textos):\n",
    "    todas_questoes=' '.join(lista_textos)\n",
    "    todas_palavras=WhitespaceTokenizer().tokenize(todas_questoes)\n",
    "    Ngrams,vocab=padded_everygram_pipeline(Ngram,todas_palavras)\n",
    "    modelo=Laplace(2)\n",
    "    modelo.fit(Ngrams,vocab)\n",
    "    return modelo"
   ]
  },
  {
   "cell_type": "code",
   "execution_count": 175,
   "metadata": {},
   "outputs": [],
   "source": [
    "def calcular_perplexidade_Ngrams(modelo,Ngrams,lista_textos):\n",
    "    perplexidade=0\n",
    "    palavras=WhitespaceTokenizer().tokenize(lista_textos)\n",
    "    palavras_fakechar=[list(pad_both_ends(palavra,Ngrams)) for palavra in palavras]\n",
    "    palavras_Ngram=[list(bigrams(palavra)) for palavra in palavras_fakechar]\n",
    "    for palavra in palavras_Ngram:\n",
    "        perplexidade+=modelo.perplexity(palavra)\n",
    "    return perplexidade"
   ]
  },
  {
   "cell_type": "code",
   "execution_count": 180,
   "metadata": {},
   "outputs": [],
   "source": [
    "def atribui_idioma_Ngrams(lista_textos,Ngrams):\n",
    "    idioma=[]\n",
    "    for texto in lista_textos:\n",
    "        portugues=calcular_perplexidade_Ngrams(modelo_port_laplace_ngram,Ngrams,texto)\n",
    "        ingles=calcular_perplexidade_Ngrams(modelo_en_laplace_ngram,Ngrams,texto)\n",
    "        espanhol=calcular_perplexidade_Ngrams(modelo_esp_laplace_ngram,Ngrams,texto)\n",
    "        if ingles>=portugues:\n",
    "            if portugues<=espanhol:\n",
    "                idioma.append('portugues')\n",
    "            else:\n",
    "                idioma.append('espanhol')\n",
    "        else:\n",
    "            if ingles<=espanhol:\n",
    "                idioma.append('ingles')\n",
    "            else:\n",
    "                idioma.append('espanhol')\n",
    "    esp_rate=idioma.count('espanhol')/len(idioma)\n",
    "    port_rate=idioma.count('portugues')/len(idioma)\n",
    "    en_rate=idioma.count('ingles')/len(idioma)                \n",
    "    return print('port %.2f\\nesp %.2f\\n en %.2f' %(port_rate,esp_rate,en_rate))"
   ]
  },
  {
   "cell_type": "code",
   "execution_count": 184,
   "metadata": {},
   "outputs": [],
   "source": [
    "modelo_port_laplace_ngram=treinar_modelo_Laplace_Ngrams(4,port_treino)\n",
    "modelo_en_laplace_ngram=treinar_modelo_Laplace_Ngrams(4,en_treino)\n",
    "modelo_esp_laplace_ngram=treinar_modelo_Laplace_Ngrams(4,esp_treino)\n"
   ]
  },
  {
   "cell_type": "code",
   "execution_count": 186,
   "metadata": {
    "tags": []
   },
   "outputs": [
    {
     "output_type": "stream",
     "name": "stdout",
     "text": [
      "port 0.00\nesp 0.99\n en 0.01\n"
     ]
    }
   ],
   "source": [
    "atribui_idioma_Ngrams(esp_teste,4)"
   ]
  },
  {
   "cell_type": "code",
   "execution_count": null,
   "metadata": {},
   "outputs": [],
   "source": []
  }
 ]
}